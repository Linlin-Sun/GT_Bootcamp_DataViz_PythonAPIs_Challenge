{
 "cells": [
  {
   "cell_type": "markdown",
   "metadata": {},
   "source": [
    "# WeatherPy\n",
    "----\n",
    "\n",
    "#### Note\n",
    "* Instructions have been included for each segment. You do not have to follow them exactly, but they are included to help you think through the steps."
   ]
  },
  {
   "cell_type": "code",
   "execution_count": 1,
   "metadata": {
    "scrolled": true
   },
   "outputs": [],
   "source": [
    "# Dependencies and Setup\n",
    "import sys\n",
    "import json\n",
    "import datetime\n",
    "import matplotlib.pyplot as plt\n",
    "import pandas as pd\n",
    "import numpy as np\n",
    "import requests\n",
    "import time\n",
    "from scipy.stats import linregress\n",
    "%matplotlib inline\n",
    "# Import API key\n",
    "sys.path.append('..')\n",
    "from api_keys import (weather_api_key, g_key)\n",
    "\n",
    "# Incorporated citipy to determine city based on latitude and longitude\n",
    "from citipy import citipy\n",
    "\n",
    "# Output File (CSV)\n",
    "output_data_file = \"output_data/cities.csv\"\n",
    "\n",
    "# Range of latitudes and longitudes\n",
    "lat_range = (-90, 90)\n",
    "lng_range = (-180, 180)\n"
   ]
  },
  {
   "cell_type": "markdown",
   "metadata": {},
   "source": [
    "## Generate Cities List"
   ]
  },
  {
   "cell_type": "code",
   "execution_count": 4,
   "metadata": {},
   "outputs": [
    {
     "name": "stdout",
     "output_type": "stream",
     "text": [
      "606\n"
     ]
    },
    {
     "data": {
      "text/plain": [
       "['polikhni',\n",
       " 'vardo',\n",
       " 'katsuura',\n",
       " 'hilo',\n",
       " 'tuatapere',\n",
       " 'barra patuca',\n",
       " 'marawi',\n",
       " 'morehead',\n",
       " 'watertown',\n",
       " 'paamiut',\n",
       " 'san policarpo',\n",
       " 'butaritari',\n",
       " 'san quintin',\n",
       " 'jiddah',\n",
       " 'rikitea',\n",
       " 'tommot',\n",
       " 'georgetown',\n",
       " 'tshikapa',\n",
       " 'taolanaro',\n",
       " 'cape town',\n",
       " 'mar del plata',\n",
       " 'punta arenas',\n",
       " 'ushuaia',\n",
       " 'barentsburg',\n",
       " 'buala',\n",
       " 'mataura',\n",
       " 'libreville',\n",
       " 'bucerias',\n",
       " 'navapur',\n",
       " 'los llanos de aridane',\n",
       " 'qaanaaq',\n",
       " 'joniskelis',\n",
       " 'port lincoln',\n",
       " 'albany',\n",
       " 'pisco',\n",
       " 'illoqqortoormiut',\n",
       " 'vaini',\n",
       " 'izhma',\n",
       " 'severo-kurilsk',\n",
       " 'balkhash',\n",
       " 'yangambi',\n",
       " 'mahibadhoo',\n",
       " 'flinders',\n",
       " 'coquimbo',\n",
       " 'castro',\n",
       " 'mata',\n",
       " 'sorvag',\n",
       " 'gamba',\n",
       " 'bredasdorp',\n",
       " 'avarua',\n",
       " 'fort nelson',\n",
       " 'lavrentiya',\n",
       " 'atuona',\n",
       " 'bodden town',\n",
       " 'tawkar',\n",
       " 'puerto ayora',\n",
       " 'sokoto',\n",
       " 'wuwei',\n",
       " 'millinocket',\n",
       " 'saskylakh',\n",
       " 'tiksi',\n",
       " 'impfondo',\n",
       " 'bluff',\n",
       " 'san pedro',\n",
       " 'barrow',\n",
       " 'souillac',\n",
       " 'babanusah',\n",
       " 'husavik',\n",
       " 'busselton',\n",
       " 'vao',\n",
       " 'east london',\n",
       " 'porlamar',\n",
       " 'nuuk',\n",
       " 'touros',\n",
       " 'adre',\n",
       " 'duncan',\n",
       " 'havoysund',\n",
       " 'sao filipe',\n",
       " 'honningsvag',\n",
       " 'gushikawa',\n",
       " 'ombessa',\n",
       " 'upernavik',\n",
       " 'afogados da ingazeira',\n",
       " 'temir',\n",
       " 'srednekolymsk',\n",
       " 'abalak',\n",
       " 'saint-philippe',\n",
       " 'kaitangata',\n",
       " 'bundaberg',\n",
       " 'bethel',\n",
       " 'narsaq',\n",
       " 'victoria',\n",
       " 'bogdana',\n",
       " 'faya',\n",
       " 'paris',\n",
       " 'axim',\n",
       " 'jamestown',\n",
       " 'nuevitas',\n",
       " 'kapaa',\n",
       " 'temaraia',\n",
       " 'turbat',\n",
       " 'ko samui',\n",
       " 'tuktoyaktuk',\n",
       " 'koshki',\n",
       " 'mehamn',\n",
       " 'tulsipur',\n",
       " 'verkh-chebula',\n",
       " 'aklavik',\n",
       " 'mandalgovi',\n",
       " 'chokurdakh',\n",
       " 'arraial do cabo',\n",
       " 'dumas',\n",
       " 'chuy',\n",
       " 'meyungs',\n",
       " 'road town',\n",
       " 'guanica',\n",
       " 'port alfred',\n",
       " 'hermanus',\n",
       " 'adrar',\n",
       " 'puerto escondido',\n",
       " 'sucua',\n",
       " 'ponta do sol',\n",
       " 'kaa-khem',\n",
       " 'norman wells',\n",
       " 'haines junction',\n",
       " 'carnarvon',\n",
       " 'damghan',\n",
       " 'saleaula',\n",
       " 'kenai',\n",
       " 'hobart',\n",
       " 'mahebourg',\n",
       " 'vidim',\n",
       " 'nieuw amsterdam',\n",
       " 'suntar',\n",
       " 'atambua',\n",
       " 'yellowknife',\n",
       " 'daru',\n",
       " 'naryan-mar',\n",
       " 'san vicente',\n",
       " 'rocha',\n",
       " 'yulara',\n",
       " 'tome',\n",
       " 'solnechnyy',\n",
       " 'praia da vitoria',\n",
       " 'yingzhong',\n",
       " 'jinchang',\n",
       " 'iqaluit',\n",
       " 'gavle',\n",
       " 'itaqui',\n",
       " 'bengkulu',\n",
       " 'lagoa',\n",
       " 'nikolskoye',\n",
       " 'comodoro rivadavia',\n",
       " 'bargal',\n",
       " 'wahiawa',\n",
       " 'saldanha',\n",
       " 'gari',\n",
       " 'mikkeli',\n",
       " 'kodiak',\n",
       " 'hithadhoo',\n",
       " 'guntakal',\n",
       " 'thabazimbi',\n",
       " 'gigmoto',\n",
       " 'tasiilaq',\n",
       " 'susanville',\n",
       " 'komsomolskiy',\n",
       " 'lebu',\n",
       " 'pampas',\n",
       " 'pag',\n",
       " 'belushya guba',\n",
       " 'ancud',\n",
       " 'benjamin hill',\n",
       " 'khatanga',\n",
       " 'tuburan',\n",
       " 'hasaki',\n",
       " 'pecos',\n",
       " 'katobu',\n",
       " 'bambous virieux',\n",
       " 'san patricio',\n",
       " 'pismo beach',\n",
       " 'dugna',\n",
       " 'fortuna',\n",
       " 'beni mazar',\n",
       " 'codrington',\n",
       " 'esperance',\n",
       " 'vaitupu',\n",
       " 'mount isa',\n",
       " 'tessalit',\n",
       " 'pokhara',\n",
       " 'atar',\n",
       " 'opuwo',\n",
       " 'dikson',\n",
       " 'kroya',\n",
       " 'buchanan',\n",
       " 'soyo',\n",
       " 'salalah',\n",
       " 'kavieng',\n",
       " 'belaya gora',\n",
       " 'indianola',\n",
       " 'luangwa',\n",
       " 'itarema',\n",
       " 'vastseliina',\n",
       " 'grindavik',\n",
       " 'olovyannaya',\n",
       " 'tiznit',\n",
       " 'lincoln',\n",
       " 'ixtapa',\n",
       " 'amderma',\n",
       " 'taltal',\n",
       " 'faanui',\n",
       " 'republic',\n",
       " 'aykhal',\n",
       " 'garowe',\n",
       " 'attawapiskat',\n",
       " 'constitucion',\n",
       " 'pevek',\n",
       " 'fort myers beach',\n",
       " 'kalemie',\n",
       " 'cabo san lucas',\n",
       " 'puerto carreno',\n",
       " 'dehloran',\n",
       " 'mufumbwe',\n",
       " 'balabac',\n",
       " 'kumta',\n",
       " 'kurilsk',\n",
       " 'kirakira',\n",
       " 'pemangkat',\n",
       " 'batemans bay',\n",
       " 'sinkat',\n",
       " 'gizo',\n",
       " 'zakamensk',\n",
       " 'rolim de moura',\n",
       " 'vila',\n",
       " 'macon',\n",
       " 'geraldton',\n",
       " 'marang',\n",
       " 'harper',\n",
       " 'khani',\n",
       " 'eureka',\n",
       " 'nome',\n",
       " 'bud',\n",
       " 'ngukurr',\n",
       " 'bara',\n",
       " 'oktyabrskiy',\n",
       " 'kyren',\n",
       " 'celestun',\n",
       " 'bolungarvik',\n",
       " 'new norfolk',\n",
       " 'bayir',\n",
       " 'cayenne',\n",
       " 'leningradskiy',\n",
       " 'vestmannaeyjar',\n",
       " 'luwuk',\n",
       " 'ribeira grande',\n",
       " 'ballina',\n",
       " 'ulaangom',\n",
       " 'luderitz',\n",
       " 'greifswald',\n",
       " 'laguna',\n",
       " 'falkoping',\n",
       " 'sawtell',\n",
       " 'warqla',\n",
       " 'salaga',\n",
       " 'saint-denis',\n",
       " 'lompoc',\n",
       " 'voh',\n",
       " 'minsk',\n",
       " 'xuddur',\n",
       " 'mortka',\n",
       " 'chapais',\n",
       " 'dori',\n",
       " 'reefton',\n",
       " 'belawan',\n",
       " 'ilulissat',\n",
       " 'whyalla',\n",
       " 'kem',\n",
       " 'otjimbingwe',\n",
       " 'shizunai',\n",
       " 'achisay',\n",
       " 'mys shmidta',\n",
       " 'uniao da victoria',\n",
       " 'nouakchott',\n",
       " 'saint-augustin',\n",
       " 'selikhino',\n",
       " 'mecca',\n",
       " 'villa alemana',\n",
       " 'hofn',\n",
       " 'la ronge',\n",
       " 'colesberg',\n",
       " 'charters towers',\n",
       " 'kanigiri',\n",
       " 'jieshi',\n",
       " 'hambantota',\n",
       " 'auki',\n",
       " 'torbay',\n",
       " 'mareeba',\n",
       " 'yining',\n",
       " 'heze',\n",
       " 'pangnirtung',\n",
       " 'puerto suarez',\n",
       " 'namibe',\n",
       " 'port elizabeth',\n",
       " 'padang',\n",
       " 'iringa',\n",
       " 'sobolevo',\n",
       " 'payo',\n",
       " 'airai',\n",
       " 'oistins',\n",
       " 'petropavlovsk-kamchatskiy',\n",
       " 'taoudenni',\n",
       " 'yablonovo',\n",
       " 'erenhot',\n",
       " 'portsmouth',\n",
       " 'bam',\n",
       " 'binga',\n",
       " 'fare',\n",
       " 'falealupo',\n",
       " 'bend',\n",
       " 'chapleau',\n",
       " 'nipawin',\n",
       " 'seddon',\n",
       " 'bambanglipuro',\n",
       " 'neiafu',\n",
       " 'sinnamary',\n",
       " 'malanje',\n",
       " 'rabnita',\n",
       " 'roma',\n",
       " 'homer',\n",
       " 'umuarama',\n",
       " 'corinth',\n",
       " 'sitka',\n",
       " 'tungkang',\n",
       " 'bireun',\n",
       " 'amga',\n",
       " 'anuppur',\n",
       " 'dali',\n",
       " 'inhambane',\n",
       " 'kahului',\n",
       " 'viedma',\n",
       " 'samfya',\n",
       " 'pemba',\n",
       " 'pacific grove',\n",
       " 'ulaanbaatar',\n",
       " 'dahuk',\n",
       " 'koslan',\n",
       " 'saint george',\n",
       " 'leirvik',\n",
       " 'antalaha',\n",
       " 'fairbanks',\n",
       " 'vila velha',\n",
       " 'paignton',\n",
       " 'selishche',\n",
       " 'sibolga',\n",
       " 'oltu',\n",
       " 'batagay',\n",
       " 'sentyabrskiy',\n",
       " 'jasper',\n",
       " 'port augusta',\n",
       " 'emerald',\n",
       " 'nancha',\n",
       " 'nanortalik',\n",
       " 'grand river south east',\n",
       " 'oxbow',\n",
       " 'qobustan',\n",
       " 'tidore',\n",
       " 'talnakh',\n",
       " 'chokwe',\n",
       " 'chimore',\n",
       " 'grand-lahou',\n",
       " 'jomalig',\n",
       " 'dhangadhi',\n",
       " 'hami',\n",
       " 'abingdon',\n",
       " 'awbari',\n",
       " 'sahrak',\n",
       " 'camacha',\n",
       " 'iracoubo',\n",
       " 'lalmohan',\n",
       " 'cuyo',\n",
       " 'leshan',\n",
       " 'thompson',\n",
       " 'cherskiy',\n",
       " 'vila franca do campo',\n",
       " 'imbituba',\n",
       " 'tura',\n",
       " 'emilio carranza',\n",
       " 'methoni',\n",
       " 'peachtree city',\n",
       " 'acarau',\n",
       " 'natal',\n",
       " 'clarence town',\n",
       " 'rosarito',\n",
       " 'asht',\n",
       " 'clyde river',\n",
       " 'las vegas',\n",
       " 'zinacantan',\n",
       " 'provideniya',\n",
       " 'wasilla',\n",
       " 'olafsvik',\n",
       " 'dagua',\n",
       " 'monster',\n",
       " 'kokoda',\n",
       " 'qasigiannguit',\n",
       " 'verkh-suetka',\n",
       " 'keti bandar',\n",
       " 'yirol',\n",
       " 'nanakuli',\n",
       " 'the valley',\n",
       " 'krasnyy chikoy',\n",
       " 'hihifo',\n",
       " 'saraland',\n",
       " 'kovdor',\n",
       " 'beloha',\n",
       " 'north bend',\n",
       " 'vicuna',\n",
       " 'korla',\n",
       " 'monrovia',\n",
       " 'keetmanshoop',\n",
       " 'belsand',\n",
       " 'longyearbyen',\n",
       " 'kerrville',\n",
       " 'zeya',\n",
       " 'pui',\n",
       " 'kurmanayevka',\n",
       " 'san cristobal',\n",
       " 'anito',\n",
       " 'manuk mangkaw',\n",
       " 'port hardy',\n",
       " 'palabuhanratu',\n",
       " 'brainerd',\n",
       " 'kamaishi',\n",
       " 'ypsilanti',\n",
       " 'verkhnetulomskiy',\n",
       " 'sao joao da barra',\n",
       " 'avera',\n",
       " 'port moresby',\n",
       " 'kourou',\n",
       " 'miyako',\n",
       " 'surt',\n",
       " 'koumac',\n",
       " 'ponta delgada',\n",
       " 'marcona',\n",
       " 'asayita',\n",
       " 'ketchikan',\n",
       " 'koulikoro',\n",
       " 'odweyne',\n",
       " 'cap malheureux',\n",
       " 'amargosa',\n",
       " 'ostrovnoy',\n",
       " 'tabou',\n",
       " 'nago',\n",
       " 'port hawkesbury',\n",
       " 'tibati',\n",
       " 'elizabeth city',\n",
       " 'chicama',\n",
       " 'tsihombe',\n",
       " 'yafran',\n",
       " 'valverde del camino',\n",
       " 'praya',\n",
       " 'andevoranto',\n",
       " 'vung tau',\n",
       " 'klaksvik',\n",
       " 'broome',\n",
       " 'skjervoy',\n",
       " 'belle fourche',\n",
       " 'bilibino',\n",
       " 'mbuji-mayi',\n",
       " 'drumnadrochit',\n",
       " 'makubetsu',\n",
       " 'inuvik',\n",
       " 'sorland',\n",
       " 'ahtopol',\n",
       " 'circleville',\n",
       " 'calabozo',\n",
       " 'davila',\n",
       " 'nizhneyansk',\n",
       " 'addis abeba',\n",
       " 'boyolangu',\n",
       " 'port-gentil',\n",
       " 'nhulunbuy',\n",
       " 'bathsheba',\n",
       " 'barguzin',\n",
       " 'lakatoro',\n",
       " 'mallama',\n",
       " 'hamilton',\n",
       " 'baft',\n",
       " 'la asuncion',\n",
       " 'thinadhoo',\n",
       " 'sisimiut',\n",
       " 'guerrero negro',\n",
       " 'gat',\n",
       " 'christchurch',\n",
       " 'sayyan',\n",
       " 'mercedes',\n",
       " 'sedelnikovo',\n",
       " 'bubaque',\n",
       " 'livingstonia',\n",
       " 'wenatchee',\n",
       " 'labutta',\n",
       " 'luancheng',\n",
       " 'caravelas',\n",
       " 'karoi',\n",
       " 'les cayes',\n",
       " 'havelock',\n",
       " 'broken hill',\n",
       " 'kavaratti',\n",
       " 'glenwood springs',\n",
       " 'chodavaram',\n",
       " 'kaeo',\n",
       " 'gedo',\n",
       " 'coruripe',\n",
       " 'poum',\n",
       " 'bowen',\n",
       " 'pochutla',\n",
       " 'qui nhon',\n",
       " 'remanso',\n",
       " 'bajo baudo',\n",
       " 'muros',\n",
       " 'juifang',\n",
       " 'porto novo',\n",
       " 'sola',\n",
       " 'richards bay',\n",
       " 'louisbourg',\n",
       " 'alofi',\n",
       " 'ambilobe',\n",
       " 'basoko',\n",
       " 'borlange',\n",
       " 'te anau',\n",
       " 'pyaozerskiy',\n",
       " 'dwarka',\n",
       " 'tanout',\n",
       " 'bulgan',\n",
       " 'serang',\n",
       " 'rungata',\n",
       " 'ternate',\n",
       " 'mogadishu',\n",
       " 'kalakamati',\n",
       " 'stekolnyy',\n",
       " 'alice springs',\n",
       " 'sandpoint',\n",
       " 'harindanga',\n",
       " 'azimur',\n",
       " 'ust-kuyga',\n",
       " 'plast',\n",
       " 'sena madureira',\n",
       " 'tlapa',\n",
       " 'ventimiglia',\n",
       " 'loubomo',\n",
       " 'mount gambier',\n",
       " 'fairhope',\n",
       " 'kudahuvadhoo',\n",
       " 'verkhoyansk',\n",
       " 'longjiang',\n",
       " 'pangoa',\n",
       " 'lubao',\n",
       " 'tela',\n",
       " 'prainha',\n",
       " 'kruisfontein',\n",
       " 'provost',\n",
       " 'sorong',\n",
       " 'sambava',\n",
       " 'coahuayana',\n",
       " 'gornopravdinsk',\n",
       " 'kolpny',\n",
       " 'ayan',\n",
       " 'bac lieu',\n",
       " 'ovalle',\n",
       " 'nouadhibou',\n",
       " 'tokur',\n",
       " 'galich',\n",
       " 'say',\n",
       " 'tuysarkan',\n",
       " 'lakes entrance',\n",
       " 'oudtshoorn',\n",
       " 'pacasmayo',\n",
       " 'arona',\n",
       " 'beringovskiy',\n",
       " 'carbonia',\n",
       " 'bhatgaon',\n",
       " 'kasongo-lunda',\n",
       " 'khonuu',\n",
       " 'iclanzel',\n",
       " 'obigarm',\n",
       " 'lolua',\n",
       " 'zhuhai',\n",
       " 'bonavista',\n",
       " 'menongue',\n",
       " 'slubice',\n",
       " 'disraeli',\n",
       " 'la primavera',\n",
       " 'moerai',\n",
       " 'minab',\n",
       " 'zarand',\n",
       " 'naze',\n",
       " 'arlit',\n",
       " 'saint-joseph',\n",
       " 'gasa',\n",
       " 'leeton',\n",
       " 'astara',\n",
       " 'oussouye',\n",
       " 'barawe',\n",
       " 'vostok',\n",
       " 'yenagoa',\n",
       " 'mackay',\n",
       " 'kisangani',\n",
       " 'rudnogorsk']"
      ]
     },
     "execution_count": 4,
     "metadata": {},
     "output_type": "execute_result"
    }
   ],
   "source": [
    "# List for holding lat_lngs and cities\n",
    "lat_lngs = []\n",
    "cities = []\n",
    "\n",
    "# Create a set of random lat and lng combinations\n",
    "# np.random.seed(20200201)\n",
    "lats = np.random.uniform(lat_range[0], lat_range[1], size=1500)\n",
    "lngs = np.random.uniform(lng_range[0], lng_range[1], size=1500)\n",
    "lat_lngs = zip(lats, lngs)\n",
    "\n",
    "# Identify nearest city for each lat, lng combination\n",
    "for lat_lng in lat_lngs:\n",
    "    city = citipy.nearest_city(lat_lng[0], lat_lng[1]).city_name\n",
    "    \n",
    "    # If the city is unique, then add it to a our cities list\n",
    "    if city not in cities:\n",
    "        cities.append(city)\n",
    "\n",
    "# Print the city count to confirm sufficient count\n",
    "print(len(cities))\n",
    "cities"
   ]
  },
  {
   "cell_type": "markdown",
   "metadata": {},
   "source": [
    "### Perform API Calls\n",
    "* Perform a weather check on each city using a series of successive API calls.\n",
    "* Include a print log of each city as it'sbeing processed (with the city number and city name).\n"
   ]
  },
  {
   "cell_type": "code",
   "execution_count": 5,
   "metadata": {},
   "outputs": [
    {
     "name": "stdout",
     "output_type": "stream",
     "text": [
      "Beginning Data Retrieval\n",
      "-----------------------------\n",
      "Processing Record 0 | polikhni\n",
      "{\n",
      "    \"cod\": \"404\",\n",
      "    \"message\": \"city not found\"\n",
      "}\n",
      "City not found. Skipping...\n",
      "Processing Record 1 | vardo\n",
      "{\n",
      "    \"coord\": {\n",
      "        \"lon\": 31.1107,\n",
      "        \"lat\": 70.3705\n",
      "    },\n",
      "    \"weather\": [\n",
      "        {\n",
      "            \"id\": 601,\n",
      "            \"main\": \"Snow\",\n",
      "            \"description\": \"snow\",\n",
      "            \"icon\": \"13n\"\n",
      "        }\n",
      "    ],\n",
      "    \"base\": \"stations\",\n",
      "    \"main\": {\n",
      "        \"temp\": 269.15,\n",
      "        \"feels_like\": 258.98,\n",
      "        \"temp_min\": 269.15,\n",
      "        \"temp_max\": 269.15,\n",
      "        \"pressure\": 1010,\n",
      "        \"humidity\": 93\n",
      "    },\n",
      "    \"visibility\": 900,\n",
      "    \"wind\": {\n",
      "        \"speed\": 10.8,\n",
      "        \"deg\": 10\n",
      "    },\n",
      "    \"snow\": {\n",
      "        \"1h\": 0.14\n",
      "    },\n",
      "    \"clouds\": {\n",
      "        \"all\": 90\n",
      "    },\n",
      "    \"dt\": 1612295823,\n",
      "    \"sys\": {\n",
      "        \"type\": 1,\n",
      "        \"id\": 1666,\n",
      "        \"country\": \"NO\",\n",
      "        \"sunrise\": 1612251710,\n",
      "        \"sunset\": 1612269398\n",
      "    },\n",
      "    \"timezone\": 3600,\n",
      "    \"id\": 777019,\n",
      "    \"name\": \"Vard\\u00f8\",\n",
      "    \"cod\": 200\n",
      "}\n",
      "Processing Record 2 | katsuura\n",
      "{\n",
      "    \"coord\": {\n",
      "        \"lon\": 140.3,\n",
      "        \"lat\": 35.1333\n",
      "    },\n",
      "    \"weather\": [\n",
      "        {\n",
      "            \"id\": 800,\n",
      "            \"main\": \"Clear\",\n",
      "            \"description\": \"clear sky\",\n",
      "            \"icon\": \"01n\"\n",
      "        }\n",
      "    ],\n",
      "    \"base\": \"stations\",\n",
      "    \"main\": {\n",
      "        \"temp\": 278.9,\n",
      "        \"feels_like\": 274.46,\n",
      "        \"temp_min\": 278.71,\n",
      "        \"temp_max\": 279.15,\n",
      "        \"pressure\": 1012,\n",
      "        \"humidity\": 45\n",
      "    },\n",
      "    \"visibility\": 10000,\n",
      "    \"wind\": {\n",
      "        \"speed\": 2.57,\n",
      "        \"deg\": 20\n",
      "    },\n",
      "    \"clouds\": {\n",
      "        \"all\": 0\n",
      "    },\n",
      "    \"dt\": 1612295824,\n",
      "    \"sys\": {\n",
      "        \"type\": 1,\n",
      "        \"id\": 8074,\n",
      "        \"country\": \"JP\",\n",
      "        \"sunrise\": 1612301796,\n",
      "        \"sunset\": 1612339712\n",
      "    },\n",
      "    \"timezone\": 32400,\n",
      "    \"id\": 2112309,\n",
      "    \"name\": \"Katsuura\",\n",
      "    \"cod\": 200\n",
      "}\n",
      "-----------------------------\n",
      "Data Retrieval Complete      \n",
      "-----------------------------\n"
     ]
    }
   ],
   "source": [
    "openweathermap_base_url = 'http://api.openweathermap.org/data/2.5/weather?units=Imperial&q='\n",
    "name_lst, lon_lst, lat_lst, max_temp_lst,  humidity_lst, cloudiness_lst, wind_speed_lst, country_lst, date_lst = [], [], [], [], [], [], [], [], []\n",
    "\n",
    "print('Beginning Data Retrieval')\n",
    "print('-----------------------------')\n",
    "for index, city in enumerate(cities[0:3]):\n",
    "    city_url = f'{openweathermap_base_url}{city}&appid={weather_api_key}'\n",
    "#     print(city_url)\n",
    "    city_response = requests.get(city_url).json()\n",
    "    print(f'Processing Record {index} | {city}')\n",
    "    print(json.dumps(city_response, indent = 4))\n",
    "    try:\n",
    "        lon_lst.append(city_response['coord']['lon'])\n",
    "        lat_lst.append(city_response['coord']['lat'])\n",
    "        max_temp_lst.append(city_response['main']['temp_max'])\n",
    "        humidity_lst.append(city_response['main']['humidity'])\n",
    "        cloudiness_lst.append(city_response['clouds']['all'])\n",
    "        wind_speed_lst.append(city_response['wind']['speed'])\n",
    "        country_lst.append(city_response['sys']['country'])\n",
    "        date_lst.append(city_response['dt'])\n",
    "        name_lst.append(city)\n",
    "    except:\n",
    "        print('City not found. Skipping...')\n",
    "    time.sleep(1)\n",
    "print(\"-----------------------------\")\n",
    "print(\"Data Retrieval Complete      \")\n",
    "print(\"-----------------------------\")"
   ]
  },
  {
   "cell_type": "code",
   "execution_count": null,
   "metadata": {
    "scrolled": true
   },
   "outputs": [],
   "source": []
  },
  {
   "cell_type": "markdown",
   "metadata": {},
   "source": [
    "### Convert Raw Data to DataFrame\n",
    "* Export the city data into a .csv.\n",
    "* Display the DataFrame"
   ]
  },
  {
   "cell_type": "code",
   "execution_count": 105,
   "metadata": {},
   "outputs": [
    {
     "data": {
      "text/html": [
       "<div>\n",
       "<style scoped>\n",
       "    .dataframe tbody tr th:only-of-type {\n",
       "        vertical-align: middle;\n",
       "    }\n",
       "\n",
       "    .dataframe tbody tr th {\n",
       "        vertical-align: top;\n",
       "    }\n",
       "\n",
       "    .dataframe thead th {\n",
       "        text-align: right;\n",
       "    }\n",
       "</style>\n",
       "<table border=\"1\" class=\"dataframe\">\n",
       "  <thead>\n",
       "    <tr style=\"text-align: right;\">\n",
       "      <th></th>\n",
       "      <th>City</th>\n",
       "      <th>Lat</th>\n",
       "      <th>Lng</th>\n",
       "      <th>Max Temp</th>\n",
       "      <th>Humidity</th>\n",
       "      <th>Cloudiness</th>\n",
       "      <th>Wind Speed</th>\n",
       "      <th>Country</th>\n",
       "      <th>Date</th>\n",
       "    </tr>\n",
       "  </thead>\n",
       "  <tbody>\n",
       "    <tr>\n",
       "      <th>0</th>\n",
       "      <td>kentau</td>\n",
       "      <td>43.5206</td>\n",
       "      <td>68.5094</td>\n",
       "      <td>277.47</td>\n",
       "      <td>59</td>\n",
       "      <td>0</td>\n",
       "      <td>3.04</td>\n",
       "      <td>KZ</td>\n",
       "      <td>1612287633</td>\n",
       "    </tr>\n",
       "    <tr>\n",
       "      <th>1</th>\n",
       "      <td>severo-kurilsk</td>\n",
       "      <td>50.6789</td>\n",
       "      <td>156.1250</td>\n",
       "      <td>270.69</td>\n",
       "      <td>94</td>\n",
       "      <td>25</td>\n",
       "      <td>8.20</td>\n",
       "      <td>RU</td>\n",
       "      <td>1612287634</td>\n",
       "    </tr>\n",
       "    <tr>\n",
       "      <th>2</th>\n",
       "      <td>ribeira grande</td>\n",
       "      <td>38.5167</td>\n",
       "      <td>-28.7000</td>\n",
       "      <td>286.15</td>\n",
       "      <td>67</td>\n",
       "      <td>40</td>\n",
       "      <td>12.35</td>\n",
       "      <td>PT</td>\n",
       "      <td>1612287635</td>\n",
       "    </tr>\n",
       "    <tr>\n",
       "      <th>3</th>\n",
       "      <td>shenzhen</td>\n",
       "      <td>22.5455</td>\n",
       "      <td>114.0683</td>\n",
       "      <td>291.48</td>\n",
       "      <td>89</td>\n",
       "      <td>24</td>\n",
       "      <td>5.08</td>\n",
       "      <td>CN</td>\n",
       "      <td>1612287636</td>\n",
       "    </tr>\n",
       "    <tr>\n",
       "      <th>4</th>\n",
       "      <td>barrow</td>\n",
       "      <td>71.2906</td>\n",
       "      <td>-156.7887</td>\n",
       "      <td>241.15</td>\n",
       "      <td>68</td>\n",
       "      <td>1</td>\n",
       "      <td>5.66</td>\n",
       "      <td>US</td>\n",
       "      <td>1612287597</td>\n",
       "    </tr>\n",
       "  </tbody>\n",
       "</table>\n",
       "</div>"
      ],
      "text/plain": [
       "             City      Lat       Lng  Max Temp  Humidity  Cloudiness  \\\n",
       "0          kentau  43.5206   68.5094    277.47        59           0   \n",
       "1  severo-kurilsk  50.6789  156.1250    270.69        94          25   \n",
       "2  ribeira grande  38.5167  -28.7000    286.15        67          40   \n",
       "3        shenzhen  22.5455  114.0683    291.48        89          24   \n",
       "4          barrow  71.2906 -156.7887    241.15        68           1   \n",
       "\n",
       "   Wind Speed Country        Date  \n",
       "0        3.04      KZ  1612287633  \n",
       "1        8.20      RU  1612287634  \n",
       "2       12.35      PT  1612287635  \n",
       "3        5.08      CN  1612287636  \n",
       "4        5.66      US  1612287597  "
      ]
     },
     "execution_count": 105,
     "metadata": {},
     "output_type": "execute_result"
    }
   ],
   "source": [
    "city_weather_df = pd.DataFrame({'City': name_lst, 'Lat': lat_lst, 'Lng': lon_lst, 'Max Temp': max_temp_lst\n",
    "                               , 'Humidity': humidity_lst, 'Cloudiness': cloudiness_lst, 'Wind Speed': wind_speed_lst\n",
    "                               , 'Country': country_lst, 'Date': date_lst})\n",
    "city_weather_df.head()"
   ]
  },
  {
   "cell_type": "code",
   "execution_count": 86,
   "metadata": {},
   "outputs": [
    {
     "data": {
      "text/plain": [
       "City           object\n",
       "Lat           float64\n",
       "Lng           float64\n",
       "Max Temp      float64\n",
       "Humidity        int64\n",
       "Cloudiness      int64\n",
       "Wind Speed    float64\n",
       "Country        object\n",
       "Date            int64\n",
       "dtype: object"
      ]
     },
     "execution_count": 86,
     "metadata": {},
     "output_type": "execute_result"
    }
   ],
   "source": [
    "city_weather_df.dtypes"
   ]
  },
  {
   "cell_type": "code",
   "execution_count": 87,
   "metadata": {},
   "outputs": [
    {
     "data": {
      "text/html": [
       "<div>\n",
       "<style scoped>\n",
       "    .dataframe tbody tr th:only-of-type {\n",
       "        vertical-align: middle;\n",
       "    }\n",
       "\n",
       "    .dataframe tbody tr th {\n",
       "        vertical-align: top;\n",
       "    }\n",
       "\n",
       "    .dataframe thead th {\n",
       "        text-align: right;\n",
       "    }\n",
       "</style>\n",
       "<table border=\"1\" class=\"dataframe\">\n",
       "  <thead>\n",
       "    <tr style=\"text-align: right;\">\n",
       "      <th></th>\n",
       "      <th>Lat</th>\n",
       "      <th>Lng</th>\n",
       "      <th>Max Temp</th>\n",
       "      <th>Humidity</th>\n",
       "      <th>Cloudiness</th>\n",
       "      <th>Wind Speed</th>\n",
       "      <th>Date</th>\n",
       "    </tr>\n",
       "  </thead>\n",
       "  <tbody>\n",
       "    <tr>\n",
       "      <th>count</th>\n",
       "      <td>558.000000</td>\n",
       "      <td>558.000000</td>\n",
       "      <td>558.000000</td>\n",
       "      <td>558.000000</td>\n",
       "      <td>558.000000</td>\n",
       "      <td>558.000000</td>\n",
       "      <td>5.580000e+02</td>\n",
       "    </tr>\n",
       "    <tr>\n",
       "      <th>mean</th>\n",
       "      <td>21.125999</td>\n",
       "      <td>15.546754</td>\n",
       "      <td>283.444265</td>\n",
       "      <td>72.480287</td>\n",
       "      <td>54.193548</td>\n",
       "      <td>3.832366</td>\n",
       "      <td>1.612288e+09</td>\n",
       "    </tr>\n",
       "    <tr>\n",
       "      <th>std</th>\n",
       "      <td>32.468242</td>\n",
       "      <td>89.977052</td>\n",
       "      <td>17.644725</td>\n",
       "      <td>19.250372</td>\n",
       "      <td>38.705607</td>\n",
       "      <td>2.849722</td>\n",
       "      <td>2.240865e+02</td>\n",
       "    </tr>\n",
       "    <tr>\n",
       "      <th>min</th>\n",
       "      <td>-54.800000</td>\n",
       "      <td>-175.200000</td>\n",
       "      <td>231.360000</td>\n",
       "      <td>12.000000</td>\n",
       "      <td>0.000000</td>\n",
       "      <td>0.080000</td>\n",
       "      <td>1.612287e+09</td>\n",
       "    </tr>\n",
       "    <tr>\n",
       "      <th>25%</th>\n",
       "      <td>-6.507350</td>\n",
       "      <td>-65.715650</td>\n",
       "      <td>272.150000</td>\n",
       "      <td>63.000000</td>\n",
       "      <td>11.000000</td>\n",
       "      <td>1.732500</td>\n",
       "      <td>1.612288e+09</td>\n",
       "    </tr>\n",
       "    <tr>\n",
       "      <th>50%</th>\n",
       "      <td>26.447800</td>\n",
       "      <td>20.002600</td>\n",
       "      <td>287.820000</td>\n",
       "      <td>77.000000</td>\n",
       "      <td>69.500000</td>\n",
       "      <td>3.090000</td>\n",
       "      <td>1.612288e+09</td>\n",
       "    </tr>\n",
       "    <tr>\n",
       "      <th>75%</th>\n",
       "      <td>47.011025</td>\n",
       "      <td>89.990350</td>\n",
       "      <td>298.157500</td>\n",
       "      <td>87.000000</td>\n",
       "      <td>90.000000</td>\n",
       "      <td>5.155000</td>\n",
       "      <td>1.612288e+09</td>\n",
       "    </tr>\n",
       "    <tr>\n",
       "      <th>max</th>\n",
       "      <td>78.218600</td>\n",
       "      <td>179.316700</td>\n",
       "      <td>309.500000</td>\n",
       "      <td>100.000000</td>\n",
       "      <td>100.000000</td>\n",
       "      <td>19.040000</td>\n",
       "      <td>1.612288e+09</td>\n",
       "    </tr>\n",
       "  </tbody>\n",
       "</table>\n",
       "</div>"
      ],
      "text/plain": [
       "              Lat         Lng    Max Temp    Humidity  Cloudiness  Wind Speed  \\\n",
       "count  558.000000  558.000000  558.000000  558.000000  558.000000  558.000000   \n",
       "mean    21.125999   15.546754  283.444265   72.480287   54.193548    3.832366   \n",
       "std     32.468242   89.977052   17.644725   19.250372   38.705607    2.849722   \n",
       "min    -54.800000 -175.200000  231.360000   12.000000    0.000000    0.080000   \n",
       "25%     -6.507350  -65.715650  272.150000   63.000000   11.000000    1.732500   \n",
       "50%     26.447800   20.002600  287.820000   77.000000   69.500000    3.090000   \n",
       "75%     47.011025   89.990350  298.157500   87.000000   90.000000    5.155000   \n",
       "max     78.218600  179.316700  309.500000  100.000000  100.000000   19.040000   \n",
       "\n",
       "               Date  \n",
       "count  5.580000e+02  \n",
       "mean   1.612288e+09  \n",
       "std    2.240865e+02  \n",
       "min    1.612287e+09  \n",
       "25%    1.612288e+09  \n",
       "50%    1.612288e+09  \n",
       "75%    1.612288e+09  \n",
       "max    1.612288e+09  "
      ]
     },
     "execution_count": 87,
     "metadata": {},
     "output_type": "execute_result"
    }
   ],
   "source": [
    "city_weather_df.describe()"
   ]
  },
  {
   "cell_type": "code",
   "execution_count": null,
   "metadata": {},
   "outputs": [],
   "source": []
  },
  {
   "cell_type": "markdown",
   "metadata": {},
   "source": [
    "## Inspect the data and remove the cities where the humidity > 100%.\n",
    "----\n",
    "Skip this step if there are no cities that have humidity > 100%. "
   ]
  },
  {
   "cell_type": "code",
   "execution_count": 88,
   "metadata": {},
   "outputs": [
    {
     "data": {
      "text/html": [
       "<div>\n",
       "<style scoped>\n",
       "    .dataframe tbody tr th:only-of-type {\n",
       "        vertical-align: middle;\n",
       "    }\n",
       "\n",
       "    .dataframe tbody tr th {\n",
       "        vertical-align: top;\n",
       "    }\n",
       "\n",
       "    .dataframe thead th {\n",
       "        text-align: right;\n",
       "    }\n",
       "</style>\n",
       "<table border=\"1\" class=\"dataframe\">\n",
       "  <thead>\n",
       "    <tr style=\"text-align: right;\">\n",
       "      <th></th>\n",
       "      <th>City</th>\n",
       "      <th>Lat</th>\n",
       "      <th>Lng</th>\n",
       "      <th>Max Temp</th>\n",
       "      <th>Humidity</th>\n",
       "      <th>Cloudiness</th>\n",
       "      <th>Wind Speed</th>\n",
       "      <th>Country</th>\n",
       "      <th>Date</th>\n",
       "    </tr>\n",
       "  </thead>\n",
       "  <tbody>\n",
       "  </tbody>\n",
       "</table>\n",
       "</div>"
      ],
      "text/plain": [
       "Empty DataFrame\n",
       "Columns: [City, Lat, Lng, Max Temp, Humidity, Cloudiness, Wind Speed, Country, Date]\n",
       "Index: []"
      ]
     },
     "execution_count": 88,
     "metadata": {},
     "output_type": "execute_result"
    }
   ],
   "source": [
    "bad_humidify = city_weather_df.loc[city_weather_df['Humidity'] > 100, :]\n",
    "bad_humidify"
   ]
  },
  {
   "cell_type": "code",
   "execution_count": 89,
   "metadata": {},
   "outputs": [
    {
     "data": {
      "text/html": [
       "<div>\n",
       "<style scoped>\n",
       "    .dataframe tbody tr th:only-of-type {\n",
       "        vertical-align: middle;\n",
       "    }\n",
       "\n",
       "    .dataframe tbody tr th {\n",
       "        vertical-align: top;\n",
       "    }\n",
       "\n",
       "    .dataframe thead th {\n",
       "        text-align: right;\n",
       "    }\n",
       "</style>\n",
       "<table border=\"1\" class=\"dataframe\">\n",
       "  <thead>\n",
       "    <tr style=\"text-align: right;\">\n",
       "      <th></th>\n",
       "      <th>Lat</th>\n",
       "      <th>Lng</th>\n",
       "      <th>Max Temp</th>\n",
       "      <th>Humidity</th>\n",
       "      <th>Cloudiness</th>\n",
       "      <th>Wind Speed</th>\n",
       "      <th>Date</th>\n",
       "    </tr>\n",
       "  </thead>\n",
       "  <tbody>\n",
       "    <tr>\n",
       "      <th>count</th>\n",
       "      <td>558.000000</td>\n",
       "      <td>558.000000</td>\n",
       "      <td>558.000000</td>\n",
       "      <td>558.000000</td>\n",
       "      <td>558.000000</td>\n",
       "      <td>558.000000</td>\n",
       "      <td>5.580000e+02</td>\n",
       "    </tr>\n",
       "    <tr>\n",
       "      <th>mean</th>\n",
       "      <td>21.125999</td>\n",
       "      <td>15.546754</td>\n",
       "      <td>283.444265</td>\n",
       "      <td>72.480287</td>\n",
       "      <td>54.193548</td>\n",
       "      <td>3.832366</td>\n",
       "      <td>1.612288e+09</td>\n",
       "    </tr>\n",
       "    <tr>\n",
       "      <th>std</th>\n",
       "      <td>32.468242</td>\n",
       "      <td>89.977052</td>\n",
       "      <td>17.644725</td>\n",
       "      <td>19.250372</td>\n",
       "      <td>38.705607</td>\n",
       "      <td>2.849722</td>\n",
       "      <td>2.240865e+02</td>\n",
       "    </tr>\n",
       "    <tr>\n",
       "      <th>min</th>\n",
       "      <td>-54.800000</td>\n",
       "      <td>-175.200000</td>\n",
       "      <td>231.360000</td>\n",
       "      <td>12.000000</td>\n",
       "      <td>0.000000</td>\n",
       "      <td>0.080000</td>\n",
       "      <td>1.612287e+09</td>\n",
       "    </tr>\n",
       "    <tr>\n",
       "      <th>25%</th>\n",
       "      <td>-6.507350</td>\n",
       "      <td>-65.715650</td>\n",
       "      <td>272.150000</td>\n",
       "      <td>63.000000</td>\n",
       "      <td>11.000000</td>\n",
       "      <td>1.732500</td>\n",
       "      <td>1.612288e+09</td>\n",
       "    </tr>\n",
       "    <tr>\n",
       "      <th>50%</th>\n",
       "      <td>26.447800</td>\n",
       "      <td>20.002600</td>\n",
       "      <td>287.820000</td>\n",
       "      <td>77.000000</td>\n",
       "      <td>69.500000</td>\n",
       "      <td>3.090000</td>\n",
       "      <td>1.612288e+09</td>\n",
       "    </tr>\n",
       "    <tr>\n",
       "      <th>75%</th>\n",
       "      <td>47.011025</td>\n",
       "      <td>89.990350</td>\n",
       "      <td>298.157500</td>\n",
       "      <td>87.000000</td>\n",
       "      <td>90.000000</td>\n",
       "      <td>5.155000</td>\n",
       "      <td>1.612288e+09</td>\n",
       "    </tr>\n",
       "    <tr>\n",
       "      <th>max</th>\n",
       "      <td>78.218600</td>\n",
       "      <td>179.316700</td>\n",
       "      <td>309.500000</td>\n",
       "      <td>100.000000</td>\n",
       "      <td>100.000000</td>\n",
       "      <td>19.040000</td>\n",
       "      <td>1.612288e+09</td>\n",
       "    </tr>\n",
       "  </tbody>\n",
       "</table>\n",
       "</div>"
      ],
      "text/plain": [
       "              Lat         Lng    Max Temp    Humidity  Cloudiness  Wind Speed  \\\n",
       "count  558.000000  558.000000  558.000000  558.000000  558.000000  558.000000   \n",
       "mean    21.125999   15.546754  283.444265   72.480287   54.193548    3.832366   \n",
       "std     32.468242   89.977052   17.644725   19.250372   38.705607    2.849722   \n",
       "min    -54.800000 -175.200000  231.360000   12.000000    0.000000    0.080000   \n",
       "25%     -6.507350  -65.715650  272.150000   63.000000   11.000000    1.732500   \n",
       "50%     26.447800   20.002600  287.820000   77.000000   69.500000    3.090000   \n",
       "75%     47.011025   89.990350  298.157500   87.000000   90.000000    5.155000   \n",
       "max     78.218600  179.316700  309.500000  100.000000  100.000000   19.040000   \n",
       "\n",
       "               Date  \n",
       "count  5.580000e+02  \n",
       "mean   1.612288e+09  \n",
       "std    2.240865e+02  \n",
       "min    1.612287e+09  \n",
       "25%    1.612288e+09  \n",
       "50%    1.612288e+09  \n",
       "75%    1.612288e+09  \n",
       "max    1.612288e+09  "
      ]
     },
     "execution_count": 89,
     "metadata": {},
     "output_type": "execute_result"
    }
   ],
   "source": [
    "city_weather_df.describe()"
   ]
  },
  {
   "cell_type": "code",
   "execution_count": null,
   "metadata": {},
   "outputs": [],
   "source": []
  },
  {
   "cell_type": "code",
   "execution_count": 90,
   "metadata": {},
   "outputs": [],
   "source": [
    "#  Get the indices of cities that have humidity over 100%.\n"
   ]
  },
  {
   "cell_type": "code",
   "execution_count": 106,
   "metadata": {},
   "outputs": [],
   "source": [
    "# Make a new DataFrame equal to the city data to drop all humidity outliers by index.\n",
    "# Passing \"inplace=False\" will make a copy of the city_data DataFrame, which we call \"clean_city_data\".\n",
    "clean_city_data = city_weather_df\n",
    "city_weather_df.to_csv('Output/city_weather.csv')"
   ]
  },
  {
   "cell_type": "code",
   "execution_count": 110,
   "metadata": {},
   "outputs": [
    {
     "data": {
      "text/html": [
       "<div>\n",
       "<style scoped>\n",
       "    .dataframe tbody tr th:only-of-type {\n",
       "        vertical-align: middle;\n",
       "    }\n",
       "\n",
       "    .dataframe tbody tr th {\n",
       "        vertical-align: top;\n",
       "    }\n",
       "\n",
       "    .dataframe thead th {\n",
       "        text-align: right;\n",
       "    }\n",
       "</style>\n",
       "<table border=\"1\" class=\"dataframe\">\n",
       "  <thead>\n",
       "    <tr style=\"text-align: right;\">\n",
       "      <th></th>\n",
       "      <th>City</th>\n",
       "      <th>Lat</th>\n",
       "      <th>Lng</th>\n",
       "      <th>Max Temp</th>\n",
       "      <th>Humidity</th>\n",
       "      <th>Cloudiness</th>\n",
       "      <th>Wind Speed</th>\n",
       "      <th>Country</th>\n",
       "      <th>Date</th>\n",
       "    </tr>\n",
       "  </thead>\n",
       "  <tbody>\n",
       "    <tr>\n",
       "      <th>0</th>\n",
       "      <td>kentau</td>\n",
       "      <td>43.5206</td>\n",
       "      <td>68.5094</td>\n",
       "      <td>277.47</td>\n",
       "      <td>59</td>\n",
       "      <td>0</td>\n",
       "      <td>3.04</td>\n",
       "      <td>KZ</td>\n",
       "      <td>1612287633</td>\n",
       "    </tr>\n",
       "    <tr>\n",
       "      <th>1</th>\n",
       "      <td>severo-kurilsk</td>\n",
       "      <td>50.6789</td>\n",
       "      <td>156.1250</td>\n",
       "      <td>270.69</td>\n",
       "      <td>94</td>\n",
       "      <td>25</td>\n",
       "      <td>8.20</td>\n",
       "      <td>RU</td>\n",
       "      <td>1612287634</td>\n",
       "    </tr>\n",
       "    <tr>\n",
       "      <th>2</th>\n",
       "      <td>ribeira grande</td>\n",
       "      <td>38.5167</td>\n",
       "      <td>-28.7000</td>\n",
       "      <td>286.15</td>\n",
       "      <td>67</td>\n",
       "      <td>40</td>\n",
       "      <td>12.35</td>\n",
       "      <td>PT</td>\n",
       "      <td>1612287635</td>\n",
       "    </tr>\n",
       "    <tr>\n",
       "      <th>3</th>\n",
       "      <td>shenzhen</td>\n",
       "      <td>22.5455</td>\n",
       "      <td>114.0683</td>\n",
       "      <td>291.48</td>\n",
       "      <td>89</td>\n",
       "      <td>24</td>\n",
       "      <td>5.08</td>\n",
       "      <td>CN</td>\n",
       "      <td>1612287636</td>\n",
       "    </tr>\n",
       "    <tr>\n",
       "      <th>4</th>\n",
       "      <td>barrow</td>\n",
       "      <td>71.2906</td>\n",
       "      <td>-156.7887</td>\n",
       "      <td>241.15</td>\n",
       "      <td>68</td>\n",
       "      <td>1</td>\n",
       "      <td>5.66</td>\n",
       "      <td>US</td>\n",
       "      <td>1612287597</td>\n",
       "    </tr>\n",
       "    <tr>\n",
       "      <th>...</th>\n",
       "      <td>...</td>\n",
       "      <td>...</td>\n",
       "      <td>...</td>\n",
       "      <td>...</td>\n",
       "      <td>...</td>\n",
       "      <td>...</td>\n",
       "      <td>...</td>\n",
       "      <td>...</td>\n",
       "      <td>...</td>\n",
       "    </tr>\n",
       "    <tr>\n",
       "      <th>553</th>\n",
       "      <td>seoul</td>\n",
       "      <td>37.5683</td>\n",
       "      <td>126.9778</td>\n",
       "      <td>265.15</td>\n",
       "      <td>57</td>\n",
       "      <td>0</td>\n",
       "      <td>1.54</td>\n",
       "      <td>KR</td>\n",
       "      <td>1612288247</td>\n",
       "    </tr>\n",
       "    <tr>\n",
       "      <th>554</th>\n",
       "      <td>ostroda</td>\n",
       "      <td>53.6967</td>\n",
       "      <td>19.9649</td>\n",
       "      <td>273.15</td>\n",
       "      <td>100</td>\n",
       "      <td>90</td>\n",
       "      <td>3.60</td>\n",
       "      <td>PL</td>\n",
       "      <td>1612288262</td>\n",
       "    </tr>\n",
       "    <tr>\n",
       "      <th>555</th>\n",
       "      <td>horodnytsya</td>\n",
       "      <td>50.8070</td>\n",
       "      <td>27.3168</td>\n",
       "      <td>268.97</td>\n",
       "      <td>97</td>\n",
       "      <td>51</td>\n",
       "      <td>3.27</td>\n",
       "      <td>UA</td>\n",
       "      <td>1612288359</td>\n",
       "    </tr>\n",
       "    <tr>\n",
       "      <th>556</th>\n",
       "      <td>camacupa</td>\n",
       "      <td>-12.0167</td>\n",
       "      <td>17.4833</td>\n",
       "      <td>291.25</td>\n",
       "      <td>95</td>\n",
       "      <td>99</td>\n",
       "      <td>2.95</td>\n",
       "      <td>AO</td>\n",
       "      <td>1612288356</td>\n",
       "    </tr>\n",
       "    <tr>\n",
       "      <th>557</th>\n",
       "      <td>lashio</td>\n",
       "      <td>22.9333</td>\n",
       "      <td>97.7500</td>\n",
       "      <td>283.33</td>\n",
       "      <td>52</td>\n",
       "      <td>0</td>\n",
       "      <td>0.73</td>\n",
       "      <td>MM</td>\n",
       "      <td>1612288361</td>\n",
       "    </tr>\n",
       "  </tbody>\n",
       "</table>\n",
       "<p>558 rows × 9 columns</p>\n",
       "</div>"
      ],
      "text/plain": [
       "               City      Lat       Lng  Max Temp  Humidity  Cloudiness  \\\n",
       "0            kentau  43.5206   68.5094    277.47        59           0   \n",
       "1    severo-kurilsk  50.6789  156.1250    270.69        94          25   \n",
       "2    ribeira grande  38.5167  -28.7000    286.15        67          40   \n",
       "3          shenzhen  22.5455  114.0683    291.48        89          24   \n",
       "4            barrow  71.2906 -156.7887    241.15        68           1   \n",
       "..              ...      ...       ...       ...       ...         ...   \n",
       "553           seoul  37.5683  126.9778    265.15        57           0   \n",
       "554         ostroda  53.6967   19.9649    273.15       100          90   \n",
       "555     horodnytsya  50.8070   27.3168    268.97        97          51   \n",
       "556        camacupa -12.0167   17.4833    291.25        95          99   \n",
       "557          lashio  22.9333   97.7500    283.33        52           0   \n",
       "\n",
       "     Wind Speed Country        Date  \n",
       "0          3.04      KZ  1612287633  \n",
       "1          8.20      RU  1612287634  \n",
       "2         12.35      PT  1612287635  \n",
       "3          5.08      CN  1612287636  \n",
       "4          5.66      US  1612287597  \n",
       "..          ...     ...         ...  \n",
       "553        1.54      KR  1612288247  \n",
       "554        3.60      PL  1612288262  \n",
       "555        3.27      UA  1612288359  \n",
       "556        2.95      AO  1612288356  \n",
       "557        0.73      MM  1612288361  \n",
       "\n",
       "[558 rows x 9 columns]"
      ]
     },
     "execution_count": 110,
     "metadata": {},
     "output_type": "execute_result"
    }
   ],
   "source": [
    "clean_city_data"
   ]
  },
  {
   "cell_type": "markdown",
   "metadata": {},
   "source": [
    "## Plotting the Data\n",
    "* Use proper labeling of the plots using plot titles (including date of analysis) and axes labels.\n",
    "* Save the plotted figures as .pngs."
   ]
  },
  {
   "cell_type": "markdown",
   "metadata": {},
   "source": [
    "## Latitude vs. Temperature Plot"
   ]
  },
  {
   "cell_type": "code",
   "execution_count": 117,
   "metadata": {},
   "outputs": [
    {
     "data": {
      "image/png": "[encoded data removed]",
      "text/plain": [
       "<Figure size 432x288 with 1 Axes>"
      ]
     },
     "metadata": {
      "needs_background": "light"
     },
     "output_type": "display_data"
    },
    {
     "data": {
      "text/plain": [
       "<Figure size 432x288 with 0 Axes>"
      ]
     },
     "metadata": {},
     "output_type": "display_data"
    }
   ],
   "source": [
    "plt.scatter(clean_city_data['Lat'], clean_city_data['Max Temp']\n",
    "           , edgecolor = 'black', alpha = 0.8)\n",
    "\n",
    "plt.title(f'City Latitude vs. Max Temperature ({time.strftime(\"%x\")})')\n",
    "plt.xlabel('Latitude')\n",
    "plt.ylabel('Max Temperature (F)')\n",
    "plt.show()\n",
    "plt.savefig('Output/City_Latitude_vs_Max_Temperature.png')"
   ]
  },
  {
   "cell_type": "markdown",
   "metadata": {},
   "source": [
    "### The code above analyzed the relationship between city latitude and max temperature. It shows that the max temperature near latitude is relatively higher. The higher the absolute value of latitude is,  the lower the max temperature gets."
   ]
  },
  {
   "cell_type": "code",
   "execution_count": null,
   "metadata": {
    "scrolled": true
   },
   "outputs": [],
   "source": []
  },
  {
   "cell_type": "markdown",
   "metadata": {},
   "source": [
    "## Latitude vs. Humidity Plot"
   ]
  },
  {
   "cell_type": "code",
   "execution_count": 119,
   "metadata": {},
   "outputs": [
    {
     "data": {
      "image/png": "[encoded data removed]",
      "text/plain": [
       "<Figure size 432x288 with 1 Axes>"
      ]
     },
     "metadata": {
      "needs_background": "light"
     },
     "output_type": "display_data"
    },
    {
     "data": {
      "text/plain": [
       "<Figure size 432x288 with 0 Axes>"
      ]
     },
     "metadata": {},
     "output_type": "display_data"
    }
   ],
   "source": [
    "plt.scatter(clean_city_data['Lat'], clean_city_data['Humidity']\n",
    "           , edgecolor = 'black', alpha = 0.8)\n",
    "\n",
    "plt.title(f'City Latitude vs. Humidity ({time.strftime(\"%x\")})')\n",
    "plt.xlabel('Latitude')\n",
    "plt.ylabel('Humidity (%)')\n",
    "plt.show()\n",
    "plt.savefig('Output/City_Latitude_vs_Humidity.png')"
   ]
  },
  {
   "cell_type": "markdown",
   "metadata": {},
   "source": [
    "### The code above analyzed the relationship between city latitude and humidity. "
   ]
  },
  {
   "cell_type": "code",
   "execution_count": null,
   "metadata": {},
   "outputs": [],
   "source": []
  },
  {
   "cell_type": "markdown",
   "metadata": {},
   "source": [
    "## Latitude vs. Cloudiness Plot"
   ]
  },
  {
   "cell_type": "code",
   "execution_count": 120,
   "metadata": {},
   "outputs": [
    {
     "data": {
      "image/png": "[encoded data removed]",
      "text/plain": [
       "<Figure size 432x288 with 1 Axes>"
      ]
     },
     "metadata": {
      "needs_background": "light"
     },
     "output_type": "display_data"
    },
    {
     "data": {
      "text/plain": [
       "<Figure size 432x288 with 0 Axes>"
      ]
     },
     "metadata": {},
     "output_type": "display_data"
    }
   ],
   "source": [
    "plt.scatter(clean_city_data['Lat'], clean_city_data['Cloudiness']\n",
    "           , edgecolor = 'black', alpha = 0.8)\n",
    "\n",
    "plt.title(f'City Latitude vs. Cloudiness ({time.strftime(\"%x\")})')\n",
    "plt.xlabel('Latitude')\n",
    "plt.ylabel('Cloudiness (%)')\n",
    "plt.show()\n",
    "plt.savefig('Output/City_Latitude_vs_Cloudiness.png')"
   ]
  },
  {
   "cell_type": "code",
   "execution_count": null,
   "metadata": {},
   "outputs": [],
   "source": []
  },
  {
   "cell_type": "markdown",
   "metadata": {},
   "source": [
    "## Latitude vs. Wind Speed Plot"
   ]
  },
  {
   "cell_type": "code",
   "execution_count": 121,
   "metadata": {},
   "outputs": [
    {
     "data": {
      "image/png": "[encoded data removed]",
      "text/plain": [
       "<Figure size 432x288 with 1 Axes>"
      ]
     },
     "metadata": {
      "needs_background": "light"
     },
     "output_type": "display_data"
    },
    {
     "data": {
      "text/plain": [
       "<Figure size 432x288 with 0 Axes>"
      ]
     },
     "metadata": {},
     "output_type": "display_data"
    }
   ],
   "source": [
    "plt.scatter(clean_city_data['Lat'], clean_city_data['Wind Speed']\n",
    "           , edgecolor = 'black', alpha = 0.8)\n",
    "\n",
    "plt.title(f'City Latitude vs. Wind Speed ({time.strftime(\"%x\")})')\n",
    "plt.xlabel('Latitude')\n",
    "plt.ylabel('Wind Speed (mph)')\n",
    "plt.show()\n",
    "plt.savefig('Output/City_Latitude_vs_Wind_Speed.png')"
   ]
  },
  {
   "cell_type": "markdown",
   "metadata": {},
   "source": [
    "### The code above analyzed the relationship between city latitude and cloudiness. It shows that there are more cities with lower wind speed regardless of the latitude but no obvious correlation between city latitude and cloudiness. "
   ]
  },
  {
   "cell_type": "code",
   "execution_count": null,
   "metadata": {},
   "outputs": [],
   "source": []
  },
  {
   "cell_type": "markdown",
   "metadata": {},
   "source": [
    "## Linear Regression"
   ]
  },
  {
   "cell_type": "code",
   "execution_count": null,
   "metadata": {},
   "outputs": [],
   "source": []
  },
  {
   "cell_type": "markdown",
   "metadata": {},
   "source": [
    "####  Northern Hemisphere - Max Temp vs. Latitude Linear Regression"
   ]
  },
  {
   "cell_type": "code",
   "execution_count": 96,
   "metadata": {},
   "outputs": [],
   "source": [
    "northern_df = clean_city_data.loc[clean_city_data['Lat'] > 0, :]\n",
    "southern_df = clean_city_data.loc[clean_city_data['Lat'] < 0, :]"
   ]
  },
  {
   "cell_type": "code",
   "execution_count": 122,
   "metadata": {},
   "outputs": [
    {
     "name": "stdout",
     "output_type": "stream",
     "text": [
      "The r-squared value is 0.7441285670759786\n"
     ]
    },
    {
     "data": {
      "image/png": "[encoded data removed]",
      "text/plain": [
       "<Figure size 432x288 with 1 Axes>"
      ]
     },
     "metadata": {
      "needs_background": "light"
     },
     "output_type": "display_data"
    },
    {
     "data": {
      "text/plain": [
       "<Figure size 432x288 with 0 Axes>"
      ]
     },
     "metadata": {},
     "output_type": "display_data"
    }
   ],
   "source": [
    "plt.scatter(northern_df['Lat'], northern_df['Max Temp'])\n",
    "\n",
    "plt.title(f'Northern City Latitude vs. Max Temperature ({time.strftime(\"%x\")})')\n",
    "plt.xlabel('Latitude')\n",
    "plt.ylabel('Max Temperature (F)')\n",
    "\n",
    "(slope, intercept, rvalue, pvalue, stderr) = linregress(northern_df['Lat'], northern_df['Max Temp'])\n",
    "formular = f'y = {round(slope, 2)}*x + {round(intercept, 2)}'\n",
    "y_pred = slope * northern_df['Lat'] + intercept\n",
    "plt.plot(northern_df['Lat'], y_pred, color = 'red')\n",
    "plt.annotate(formular, (0, 260), color = 'red', fontsize = 16)\n",
    "\n",
    "print(f'The r-squared value is {rvalue**2}')\n",
    "\n",
    "plt.show()\n",
    "plt.savefig('Output/Northern_City_Latitude_vs_Max_Temperature.png')"
   ]
  },
  {
   "cell_type": "code",
   "execution_count": null,
   "metadata": {},
   "outputs": [],
   "source": []
  },
  {
   "cell_type": "markdown",
   "metadata": {},
   "source": [
    "####  Southern Hemisphere - Max Temp vs. Latitude Linear Regression"
   ]
  },
  {
   "cell_type": "code",
   "execution_count": 123,
   "metadata": {},
   "outputs": [
    {
     "name": "stdout",
     "output_type": "stream",
     "text": [
      "The r-squared value is 0.2897595140501798\n"
     ]
    },
    {
     "data": {
      "image/png": "[encoded data removed]",
      "text/plain": [
       "<Figure size 432x288 with 1 Axes>"
      ]
     },
     "metadata": {
      "needs_background": "light"
     },
     "output_type": "display_data"
    },
    {
     "data": {
      "text/plain": [
       "<Figure size 432x288 with 0 Axes>"
      ]
     },
     "metadata": {},
     "output_type": "display_data"
    }
   ],
   "source": [
    "plt.scatter(southern_df['Lat'], southern_df['Max Temp'])\n",
    "\n",
    "plt.title(f'Southern City Latitude vs. Max Temperature ({time.strftime(\"%x\")})')\n",
    "plt.xlabel('Latitude')\n",
    "plt.ylabel('Max Temperature (F)')\n",
    "\n",
    "(slope, intercept, rvalue, pvalue, stderr) = linregress(southern_df['Lat'], southern_df['Max Temp'])\n",
    "formular = f'y = {round(slope, 2)}*x + {round(intercept, 2)}'\n",
    "y_pred = slope * southern_df['Lat'] + intercept\n",
    "plt.plot(southern_df['Lat'], y_pred, color = 'red')\n",
    "plt.annotate(formular, (-30, 290), color = 'red', fontsize = 16)\n",
    "\n",
    "print(f'The r-squared value is {rvalue**2}')\n",
    "\n",
    "plt.show()\n",
    "plt.savefig('Output/Southern_City_Latitude_vs_Max_Temperature.png')"
   ]
  },
  {
   "cell_type": "code",
   "execution_count": null,
   "metadata": {},
   "outputs": [],
   "source": []
  },
  {
   "cell_type": "markdown",
   "metadata": {},
   "source": [
    "####  Northern Hemisphere - Humidity (%) vs. Latitude Linear Regression"
   ]
  },
  {
   "cell_type": "code",
   "execution_count": 124,
   "metadata": {},
   "outputs": [
    {
     "name": "stdout",
     "output_type": "stream",
     "text": [
      "The r-squared value is 0.23244888243395773\n"
     ]
    },
    {
     "data": {
      "image/png": "[encoded data removed]",
      "text/plain": [
       "<Figure size 432x288 with 1 Axes>"
      ]
     },
     "metadata": {
      "needs_background": "light"
     },
     "output_type": "display_data"
    },
    {
     "data": {
      "text/plain": [
       "<Figure size 432x288 with 0 Axes>"
      ]
     },
     "metadata": {},
     "output_type": "display_data"
    }
   ],
   "source": [
    "plt.scatter(northern_df['Lat'], northern_df['Humidity'])\n",
    "\n",
    "plt.title(f'Northern City Latitude vs. Humidity ({time.strftime(\"%x\")})')\n",
    "plt.xlabel('Latitude')\n",
    "plt.ylabel('Humidity (%)')\n",
    "\n",
    "(slope, intercept, rvalue, pvalue, stderr) = linregress(northern_df['Lat'], northern_df['Humidity'])\n",
    "formular = f'y = {round(slope, 2)}*x + {round(intercept, 2)}'\n",
    "y_pred = slope * northern_df['Lat'] + intercept\n",
    "plt.plot(northern_df['Lat'], y_pred, color = 'red')\n",
    "plt.annotate(formular, (30, 40), color = 'red', fontsize = 16)\n",
    "\n",
    "print(f'The r-squared value is {rvalue**2}')\n",
    "\n",
    "plt.show()\n",
    "plt.savefig('Output/Northern_City_Latitude_vs_Humidity.png')"
   ]
  },
  {
   "cell_type": "code",
   "execution_count": null,
   "metadata": {},
   "outputs": [],
   "source": []
  },
  {
   "cell_type": "markdown",
   "metadata": {},
   "source": [
    "####  Southern Hemisphere - Humidity (%) vs. Latitude Linear Regression"
   ]
  },
  {
   "cell_type": "code",
   "execution_count": 125,
   "metadata": {},
   "outputs": [
    {
     "name": "stdout",
     "output_type": "stream",
     "text": [
      "The r-squared value is 0.01545775635389032\n"
     ]
    },
    {
     "data": {
      "image/png": "[encoded data removed]",
      "text/plain": [
       "<Figure size 432x288 with 1 Axes>"
      ]
     },
     "metadata": {
      "needs_background": "light"
     },
     "output_type": "display_data"
    },
    {
     "data": {
      "text/plain": [
       "<Figure size 432x288 with 0 Axes>"
      ]
     },
     "metadata": {},
     "output_type": "display_data"
    }
   ],
   "source": [
    "plt.scatter(southern_df['Lat'], southern_df['Humidity'])\n",
    "\n",
    "plt.title(f'Southern City Latitude vs. Humidity ({time.strftime(\"%x\")})')\n",
    "plt.xlabel('Latitude')\n",
    "plt.ylabel('Humidity (%)')\n",
    "\n",
    "(slope, intercept, rvalue, pvalue, stderr) = linregress(southern_df['Lat'], southern_df['Humidity'])\n",
    "formular = f'y = {round(slope, 2)}*x + {round(intercept, 2)}'\n",
    "y_pred = slope * southern_df['Lat'] + intercept\n",
    "plt.plot(southern_df['Lat'], y_pred, color = 'red')\n",
    "plt.annotate(formular, (30, 40), color = 'red', fontsize = 16)\n",
    "\n",
    "print(f'The r-squared value is {rvalue**2}')\n",
    "\n",
    "plt.show()\n",
    "plt.savefig('Output/Southern_City_Latitude_vs_Humidity.png')"
   ]
  },
  {
   "cell_type": "code",
   "execution_count": null,
   "metadata": {},
   "outputs": [],
   "source": []
  },
  {
   "cell_type": "markdown",
   "metadata": {},
   "source": [
    "####  Northern Hemisphere - Cloudiness (%) vs. Latitude Linear Regression"
   ]
  },
  {
   "cell_type": "code",
   "execution_count": 126,
   "metadata": {},
   "outputs": [
    {
     "name": "stdout",
     "output_type": "stream",
     "text": [
      "The r-squared value is 0.16499828900203753\n"
     ]
    },
    {
     "data": {
      "image/png": "[encoded data removed]",
      "text/plain": [
       "<Figure size 432x288 with 1 Axes>"
      ]
     },
     "metadata": {
      "needs_background": "light"
     },
     "output_type": "display_data"
    },
    {
     "data": {
      "text/plain": [
       "<Figure size 432x288 with 0 Axes>"
      ]
     },
     "metadata": {},
     "output_type": "display_data"
    }
   ],
   "source": [
    "plt.scatter(northern_df['Lat'], northern_df['Cloudiness'])\n",
    "\n",
    "plt.title(f'Northern City Latitude vs. Cloudiness ({time.strftime(\"%x\")})')\n",
    "plt.xlabel('Latitude')\n",
    "plt.ylabel('Cloudiness (%)')\n",
    "\n",
    "(slope, intercept, rvalue, pvalue, stderr) = linregress(northern_df['Lat'], northern_df['Cloudiness'])\n",
    "formular = f'y = {round(slope, 2)}*x + {round(intercept, 2)}'\n",
    "y_pred = slope * northern_df['Lat'] + intercept\n",
    "plt.plot(northern_df['Lat'], y_pred, color = 'red')\n",
    "plt.annotate(formular, (30, 40), color = 'red', fontsize = 16)\n",
    "\n",
    "print(f'The r-squared value is {rvalue**2}')\n",
    "\n",
    "plt.show()\n",
    "plt.savefig('Output/Northern_City_Latitude_vs_Cloudiness.png')"
   ]
  },
  {
   "cell_type": "code",
   "execution_count": null,
   "metadata": {},
   "outputs": [],
   "source": []
  },
  {
   "cell_type": "markdown",
   "metadata": {},
   "source": [
    "####  Southern Hemisphere - Cloudiness (%) vs. Latitude Linear Regression"
   ]
  },
  {
   "cell_type": "code",
   "execution_count": 127,
   "metadata": {},
   "outputs": [
    {
     "name": "stdout",
     "output_type": "stream",
     "text": [
      "The r-squared value is 0.13768785731251224\n"
     ]
    },
    {
     "data": {
      "image/png": "[encoded data removed]",
      "text/plain": [
       "<Figure size 432x288 with 1 Axes>"
      ]
     },
     "metadata": {
      "needs_background": "light"
     },
     "output_type": "display_data"
    },
    {
     "data": {
      "text/plain": [
       "<Figure size 432x288 with 0 Axes>"
      ]
     },
     "metadata": {},
     "output_type": "display_data"
    }
   ],
   "source": [
    "plt.scatter(southern_df['Lat'], southern_df['Cloudiness'])\n",
    "\n",
    "plt.title(f'Southern City Latitude vs. Cloudiness ({time.strftime(\"%x\")})')\n",
    "plt.xlabel('Latitude')\n",
    "plt.ylabel('Cloudiness (%)')\n",
    "\n",
    "(slope, intercept, rvalue, pvalue, stderr) = linregress(southern_df['Lat'], southern_df['Cloudiness'])\n",
    "formular = f'y = {round(slope, 2)}*x + {round(intercept, 2)}'\n",
    "y_pred = slope * southern_df['Lat'] + intercept\n",
    "plt.plot(southern_df['Lat'], y_pred, color = 'red')\n",
    "plt.annotate(formular, (-40, 20), color = 'red', fontsize = 16)\n",
    "\n",
    "print(f'The r-squared value is {rvalue**2}')\n",
    "\n",
    "plt.show()\n",
    "plt.savefig('Output/Southern_City_Latitude_vs_Cloudiness.png')"
   ]
  },
  {
   "cell_type": "code",
   "execution_count": null,
   "metadata": {},
   "outputs": [],
   "source": []
  },
  {
   "cell_type": "markdown",
   "metadata": {},
   "source": [
    "####  Northern Hemisphere - Wind Speed (mph) vs. Latitude Linear Regression"
   ]
  },
  {
   "cell_type": "code",
   "execution_count": 128,
   "metadata": {},
   "outputs": [
    {
     "name": "stdout",
     "output_type": "stream",
     "text": [
      "The r-squared value is 0.0028648114753292795\n"
     ]
    },
    {
     "data": {
      "image/png": "[encoded data removed]",
      "text/plain": [
       "<Figure size 432x288 with 1 Axes>"
      ]
     },
     "metadata": {
      "needs_background": "light"
     },
     "output_type": "display_data"
    },
    {
     "data": {
      "text/plain": [
       "<Figure size 432x288 with 0 Axes>"
      ]
     },
     "metadata": {},
     "output_type": "display_data"
    }
   ],
   "source": [
    "plt.scatter(northern_df['Lat'], northern_df['Wind Speed'])\n",
    "\n",
    "plt.title(f'Northern City Latitude vs. Wind Speed ({time.strftime(\"%x\")})')\n",
    "plt.xlabel('Latitude')\n",
    "plt.ylabel('Wind Speed (mph)')\n",
    "\n",
    "(slope, intercept, rvalue, pvalue, stderr) = linregress(northern_df['Lat'], northern_df['Wind Speed'])\n",
    "formular = f'y = {round(slope, 2)}*x + {round(intercept, 2)}'\n",
    "y_pred = slope * northern_df['Lat'] + intercept\n",
    "plt.plot(northern_df['Lat'], y_pred, color = 'red')\n",
    "plt.annotate(formular, (20, 8), color = 'red', fontsize = 16)\n",
    "\n",
    "print(f'The r-squared value is {rvalue**2}')\n",
    "\n",
    "plt.show()\n",
    "plt.savefig('Output/Northern_City_Latitude_vs_Wind_Speed.png')"
   ]
  },
  {
   "cell_type": "code",
   "execution_count": null,
   "metadata": {},
   "outputs": [],
   "source": []
  },
  {
   "cell_type": "markdown",
   "metadata": {},
   "source": [
    "####  Southern Hemisphere - Wind Speed (mph) vs. Latitude Linear Regression"
   ]
  },
  {
   "cell_type": "code",
   "execution_count": 129,
   "metadata": {},
   "outputs": [
    {
     "name": "stdout",
     "output_type": "stream",
     "text": [
      "The r-squared value is 0.003396805942165661\n"
     ]
    },
    {
     "data": {
      "image/png": "[encoded data removed]",
      "text/plain": [
       "<Figure size 432x288 with 1 Axes>"
      ]
     },
     "metadata": {
      "needs_background": "light"
     },
     "output_type": "display_data"
    },
    {
     "data": {
      "text/plain": [
       "<Figure size 432x288 with 0 Axes>"
      ]
     },
     "metadata": {},
     "output_type": "display_data"
    }
   ],
   "source": [
    "plt.scatter(southern_df['Lat'], southern_df['Wind Speed'])\n",
    "\n",
    "plt.title(f'Southern City Latitude vs. Wind Speed ({time.strftime(\"%x\")})')\n",
    "plt.xlabel('Latitude')\n",
    "plt.ylabel('Wind Speed (mph)')\n",
    "\n",
    "(slope, intercept, rvalue, pvalue, stderr) = linregress(southern_df['Lat'], southern_df['Wind Speed'])\n",
    "formular = f'y = {round(slope, 2)}*x + {round(intercept, 2)}'\n",
    "y_pred = slope * southern_df['Lat'] + intercept\n",
    "plt.plot(southern_df['Lat'], y_pred, color = 'red')\n",
    "plt.annotate(formular, (-50, 10), color = 'red', fontsize = 16)\n",
    "\n",
    "print(f'The r-squared value is {rvalue**2}')\n",
    "\n",
    "plt.show()\n",
    "plt.savefig('Output/Southern_City_Latitude_vs_Wind_Speed.png')"
   ]
  },
  {
   "cell_type": "code",
   "execution_count": null,
   "metadata": {},
   "outputs": [],
   "source": []
  },
  {
   "cell_type": "code",
   "execution_count": null,
   "metadata": {},
   "outputs": [],
   "source": []
  }
 ],
 "metadata": {
  "anaconda-cloud": {},
  "kernel_info": {
   "name": "python3"
  },
  "kernelspec": {
   "display_name": "Python 3",
   "language": "python",
   "name": "python3"
  },
  "language_info": {
   "codemirror_mode": {
    "name": "ipython",
    "version": 3
   },
   "file_extension": ".py",
   "mimetype": "text/x-python",
   "name": "python",
   "nbconvert_exporter": "python",
   "pygments_lexer": "ipython3",
   "version": "3.8.5"
  },
  "latex_envs": {
   "LaTeX_envs_menu_present": true,
   "autoclose": false,
   "autocomplete": true,
   "bibliofile": "biblio.bib",
   "cite_by": "apalike",
   "current_citInitial": 1,
   "eqLabelWithNumbers": true,
   "eqNumInitial": 1,
   "hotkeys": {
    "equation": "Ctrl-E",
    "itemize": "Ctrl-I"
   },
   "labels_anchors": false,
   "latex_user_defs": false,
   "report_style_numbering": false,
   "user_envs_cfg": false
  },
  "nteract": {
   "version": "0.12.3"
  }
 },
 "nbformat": 4,
 "nbformat_minor": 2
}

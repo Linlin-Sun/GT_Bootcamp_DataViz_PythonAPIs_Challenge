{
 "cells": [
  {
   "cell_type": "markdown",
   "metadata": {},
   "source": [
    "# WeatherPy\n",
    "----\n",
    "\n",
    "#### Note\n",
    "* Instructions have been included for each segment. You do not have to follow them exactly, but they are included to help you think through the steps."
   ]
  },
  {
   "cell_type": "code",
   "execution_count": 1,
   "metadata": {
    "scrolled": true
   },
   "outputs": [],
   "source": [
    "# Dependencies and Setup\n",
    "import sys\n",
    "import json\n",
    "import datetime\n",
    "import matplotlib.pyplot as plt\n",
    "import pandas as pd\n",
    "import numpy as np\n",
    "import requests\n",
    "import time\n",
    "from scipy.stats import linregress\n",
    "%matplotlib inline\n",
    "# Import API key\n",
    "sys.path.append('..')\n",
    "from api_keys import (weather_api_key, g_key)\n",
    "\n",
    "# Incorporated citipy to determine city based on latitude and longitude\n",
    "from citipy import citipy\n",
    "\n",
    "# Output File (CSV)\n",
    "output_data_file = \"output_data/cities.csv\"\n",
    "\n",
    "# Range of latitudes and longitudes\n",
    "lat_range = (-90, 90)\n",
    "lng_range = (-180, 180)\n"
   ]
  },
  {
   "cell_type": "markdown",
   "metadata": {},
   "source": [
    "## Generate Cities List"
   ]
  },
  {
   "cell_type": "code",
   "execution_count": 2,
   "metadata": {},
   "outputs": [
    {
     "name": "stdout",
     "output_type": "stream",
     "text": [
      "600\n"
     ]
    },
    {
     "data": {
      "text/plain": [
       "['los llanos de aridane',\n",
       " 'cap malheureux',\n",
       " 'tuktoyaktuk',\n",
       " 'punta arenas',\n",
       " 'aporawan',\n",
       " 'faya',\n",
       " 'castro',\n",
       " 'saint-philippe',\n",
       " 'dalby',\n",
       " 'ushuaia',\n",
       " 'dzhebariki-khaya',\n",
       " 'qaanaaq',\n",
       " 'dumas',\n",
       " 'albany',\n",
       " 'zhigansk',\n",
       " 'lata',\n",
       " 'busselton',\n",
       " 'acarau',\n",
       " 'son la',\n",
       " 'new norfolk',\n",
       " 'atuona',\n",
       " 'kapaa',\n",
       " 'abay',\n",
       " 'hermanus',\n",
       " 'bosanska krupa',\n",
       " 'husavik',\n",
       " 'kidal',\n",
       " 'sterling',\n",
       " 'cape town',\n",
       " 'cheuskiny',\n",
       " 'dikson',\n",
       " 'kloulklubed',\n",
       " 'savannah bight',\n",
       " 'revelstoke',\n",
       " 'coihaique',\n",
       " 'mahebourg',\n",
       " 'kumluca',\n",
       " 'kamenskoye',\n",
       " 'hobart',\n",
       " 'tomatlan',\n",
       " 'mataura',\n",
       " 'ribeira grande',\n",
       " 'georgetown',\n",
       " 'lebu',\n",
       " 'chuy',\n",
       " 'samusu',\n",
       " 'cabo san lucas',\n",
       " 'tonj',\n",
       " 'taolanaro',\n",
       " 'dingle',\n",
       " 'iqaluit',\n",
       " 'karakendzha',\n",
       " 'upernavik',\n",
       " 'nova olimpia',\n",
       " 'kazerun',\n",
       " 'butaritari',\n",
       " 'aloleng',\n",
       " 'belaya gora',\n",
       " 'katsuura',\n",
       " 'rikitea',\n",
       " 'luanda',\n",
       " 'hilo',\n",
       " 'mar del plata',\n",
       " 'carnarvon',\n",
       " 'arraial do cabo',\n",
       " 'hovd',\n",
       " 'barrow',\n",
       " 'dunedin',\n",
       " 'barentsburg',\n",
       " 'antalaha',\n",
       " 'ostrovnoy',\n",
       " 'port alfred',\n",
       " 'saint george',\n",
       " 'okhtyrka',\n",
       " 'kamwenge',\n",
       " 'vaini',\n",
       " 'bathsheba',\n",
       " 'berlevag',\n",
       " 'warqla',\n",
       " 'solovetskiy',\n",
       " 'esperance',\n",
       " 'richards bay',\n",
       " 'kohlu',\n",
       " 'sentyabrskiy',\n",
       " 'illoqqortoormiut',\n",
       " 'zhangye',\n",
       " 'hithadhoo',\n",
       " 'puerto ayora',\n",
       " 'avarua',\n",
       " 'miki',\n",
       " 'tsihombe',\n",
       " 'vigevano',\n",
       " 'nikolskoye',\n",
       " 'egvekinot',\n",
       " 'longyearbyen',\n",
       " 'imbituba',\n",
       " 'dubbo',\n",
       " 'lorengau',\n",
       " 'thompson',\n",
       " 'srednekolymsk',\n",
       " 'san carlos de bariloche',\n",
       " 'terenos',\n",
       " 'conceicao do araguaia',\n",
       " 'khatanga',\n",
       " 'caruray',\n",
       " 'san policarpo',\n",
       " 'bengkulu',\n",
       " 'tanabe',\n",
       " 'pevek',\n",
       " 'kavaratti',\n",
       " 'talnakh',\n",
       " 'rocha',\n",
       " 'la ronge',\n",
       " 'bluff',\n",
       " 'olafsvik',\n",
       " 'usuki',\n",
       " 'bambous virieux',\n",
       " 'ancud',\n",
       " 'bilibino',\n",
       " 'attawapiskat',\n",
       " 'grodzisk wielkopolski',\n",
       " 'leningradskiy',\n",
       " 'larimna',\n",
       " 'centralia',\n",
       " 'tiarei',\n",
       " 'goure',\n",
       " 'hirara',\n",
       " 'vestmannaeyjar',\n",
       " 'kieta',\n",
       " 'leogane',\n",
       " 'cherskiy',\n",
       " 'victoria',\n",
       " 'asau',\n",
       " 'saint-augustin',\n",
       " 'saint-joseph',\n",
       " 'matadi',\n",
       " 'rio grande',\n",
       " 'ko samui',\n",
       " 'belen',\n",
       " 'birzai',\n",
       " 'yerbogachen',\n",
       " 'hami',\n",
       " 'la romana',\n",
       " 'upata',\n",
       " 'chokurdakh',\n",
       " 'camacari',\n",
       " 'jamestown',\n",
       " 'ilulissat',\n",
       " 'granger',\n",
       " 'altay',\n",
       " 'natal',\n",
       " 'saskylakh',\n",
       " 'brae',\n",
       " 'severo-kurilsk',\n",
       " 'mullaitivu',\n",
       " 'buala',\n",
       " 'hualmay',\n",
       " 'oistins',\n",
       " 'luena',\n",
       " 'marau',\n",
       " 'sao felix do xingu',\n",
       " 'lapeer',\n",
       " 'maceio',\n",
       " 'amderma',\n",
       " 'yellowknife',\n",
       " 'veraval',\n",
       " 'portland',\n",
       " 'camacha',\n",
       " 'temaraia',\n",
       " 'cidreira',\n",
       " 'east london',\n",
       " 'port elizabeth',\n",
       " 'prince rupert',\n",
       " 'xining',\n",
       " 'morganton',\n",
       " 'alyangula',\n",
       " 'mormugao',\n",
       " 'broken hill',\n",
       " 'dudinka',\n",
       " 'santa lucia',\n",
       " 'mountain home',\n",
       " 'ahuimanu',\n",
       " 'klaksvik',\n",
       " 'sitka',\n",
       " 'college',\n",
       " 'smithers',\n",
       " 'kashi',\n",
       " 'morondava',\n",
       " 'evensk',\n",
       " 'carangola',\n",
       " 'vardo',\n",
       " 'forestville',\n",
       " 'scarborough',\n",
       " 'tiksi',\n",
       " 'ambulu',\n",
       " 'alekseyevskoye',\n",
       " 'krasnyy yar',\n",
       " 'itarema',\n",
       " 'suntar',\n",
       " 'padang',\n",
       " 'satitoa',\n",
       " 'dolbeau',\n",
       " 'tirumullaivasal',\n",
       " 'shirokiy',\n",
       " 'nouadhibou',\n",
       " 'lubao',\n",
       " 'kodiak',\n",
       " 'mwinilunga',\n",
       " 'saleaula',\n",
       " 'flinders',\n",
       " 'ewa beach',\n",
       " 'tual',\n",
       " 'chardara',\n",
       " 'zhuanghe',\n",
       " 'bethel',\n",
       " 'kupang',\n",
       " 'moree',\n",
       " 'lasa',\n",
       " 'clyde river',\n",
       " 'lavrentiya',\n",
       " 'vanimo',\n",
       " 'west plains',\n",
       " 'balkanabat',\n",
       " 'dobra',\n",
       " 'camopi',\n",
       " 'vredendal',\n",
       " 'samarai',\n",
       " 'sola',\n",
       " 'ballina',\n",
       " 'hasaki',\n",
       " 'saquena',\n",
       " 'gisors',\n",
       " 'andover',\n",
       " 'christchurch',\n",
       " 'melita',\n",
       " 'kemin',\n",
       " 'maniitsoq',\n",
       " 'nakhon thai',\n",
       " 'geraldton',\n",
       " 'erenhot',\n",
       " 'vao',\n",
       " 'bahawalpur',\n",
       " 'iquique',\n",
       " 'konevo',\n",
       " 'kavieng',\n",
       " 'araouane',\n",
       " 'kruisfontein',\n",
       " 'sao joao da barra',\n",
       " 'ponta do sol',\n",
       " 'tuatapere',\n",
       " 'midland',\n",
       " 'bara',\n",
       " 'vung tau',\n",
       " 'constitucion',\n",
       " 'asfi',\n",
       " 'cayenne',\n",
       " 'loa janan',\n",
       " 'belushya guba',\n",
       " 'narsaq',\n",
       " 'antigonish',\n",
       " 'tawkar',\n",
       " 'nishihara',\n",
       " 'ayios kirikos',\n",
       " 'arlit',\n",
       " 'makakilo city',\n",
       " 'cabedelo',\n",
       " 'usinsk',\n",
       " 'nata',\n",
       " 'kaitangata',\n",
       " 'alta floresta',\n",
       " 'abalak',\n",
       " 'sao filipe',\n",
       " 'tskaltubo',\n",
       " 'norman wells',\n",
       " 'bayan',\n",
       " 'nanortalik',\n",
       " 'caluquembe',\n",
       " 'memari',\n",
       " 'pavlivka',\n",
       " 'felanitx',\n",
       " 'alofi',\n",
       " 'luderitz',\n",
       " 'ambanja',\n",
       " 'davila',\n",
       " 'jalu',\n",
       " 'grand river south east',\n",
       " 'mokhsogollokh',\n",
       " 'porto novo',\n",
       " 'ahipara',\n",
       " 'saldanha',\n",
       " 'matamoros',\n",
       " 'cache creek',\n",
       " 'ifanadiana',\n",
       " 'viedma',\n",
       " 'faanui',\n",
       " 'biak',\n",
       " 'bafq',\n",
       " 'ixtapa',\n",
       " 'huangpi',\n",
       " 'riyadh',\n",
       " 'xichang',\n",
       " 'nalut',\n",
       " 'jieshi',\n",
       " 'bridlington',\n",
       " 'palabuhanratu',\n",
       " 'mpongwe',\n",
       " 'grand gaube',\n",
       " 'gat',\n",
       " 'houma',\n",
       " 'gigmoto',\n",
       " 'sarangani',\n",
       " 'port shepstone',\n",
       " 'adrar',\n",
       " 'varna',\n",
       " 'venice',\n",
       " 'verkhoyansk',\n",
       " 'bredasdorp',\n",
       " 'road town',\n",
       " 'kahului',\n",
       " 'foumbot',\n",
       " 'coahuayana',\n",
       " 'mana',\n",
       " 'meyungs',\n",
       " 'phetchaburi',\n",
       " 'bafia',\n",
       " 'pinahat',\n",
       " 'salalah',\n",
       " 'margate',\n",
       " 'wum',\n",
       " 'bonthe',\n",
       " 'provideniya',\n",
       " 'tongling',\n",
       " 'paamiut',\n",
       " 'kitsuki',\n",
       " 'kuzedeyevo',\n",
       " 'lircay',\n",
       " 'inderborskiy',\n",
       " 'healdsburg',\n",
       " 'candelaria',\n",
       " 'codrington',\n",
       " 'lagoa',\n",
       " 'shieli',\n",
       " 'walvis bay',\n",
       " 'gamba',\n",
       " 'amapa',\n",
       " 'mrirt',\n",
       " 'barawe',\n",
       " 'ambunti',\n",
       " 'grindavik',\n",
       " 'ponnani',\n",
       " 'batagay',\n",
       " 'marawi',\n",
       " 'tumannyy',\n",
       " 'sakakah',\n",
       " 'dugulubgey',\n",
       " 'valentin gomez farias',\n",
       " 'qianjiang',\n",
       " 'salinopolis',\n",
       " 'lolua',\n",
       " 'koumra',\n",
       " 'fortuna',\n",
       " 'jega',\n",
       " 'pasni',\n",
       " 'tapaua',\n",
       " 'ubinskoye',\n",
       " 'abu road',\n",
       " 'coquimbo',\n",
       " 'issoudun',\n",
       " 'ferrol',\n",
       " 'karari',\n",
       " 'dicabisagan',\n",
       " 'khasan',\n",
       " 'tocopilla',\n",
       " 'ulaanbaatar',\n",
       " 'telenesti',\n",
       " 'baykit',\n",
       " 'airai',\n",
       " 'thai binh',\n",
       " 'meadow lake',\n",
       " 'gashua',\n",
       " 'el vigia',\n",
       " 'saryshagan',\n",
       " 'san-pedro',\n",
       " 'lundazi',\n",
       " 'atar',\n",
       " 'takoradi',\n",
       " 'nizhneyansk',\n",
       " 'pechenga',\n",
       " 'elat',\n",
       " 'umzimvubu',\n",
       " 'svetlogorsk',\n",
       " 'vostok',\n",
       " 'tiznit',\n",
       " 'yashan',\n",
       " 'cam pha',\n",
       " 'san andres',\n",
       " 'taoudenni',\n",
       " 'buenos aires',\n",
       " 'marsa matruh',\n",
       " 'palmer',\n",
       " 'port-cartier',\n",
       " 'danielskuil',\n",
       " 'lompoc',\n",
       " 'tasiilaq',\n",
       " 'flagstaff',\n",
       " 'mount gambier',\n",
       " 'sabya',\n",
       " 'erzin',\n",
       " 'torbay',\n",
       " 'puri',\n",
       " 'komsomolskiy',\n",
       " 'skrunda',\n",
       " 'agropoli',\n",
       " 'vila',\n",
       " 'kula',\n",
       " 'tukrah',\n",
       " 'masuda',\n",
       " 'okhotsk',\n",
       " 'damghan',\n",
       " 'bousso',\n",
       " 'bantou',\n",
       " 'pobe',\n",
       " 'yar-sale',\n",
       " 'san quintin',\n",
       " 'touba',\n",
       " 'kimbe',\n",
       " 'kirakira',\n",
       " 'sorrento',\n",
       " 'thunder bay',\n",
       " 'myitkyina',\n",
       " 'shenjiamen',\n",
       " 'tazovskiy',\n",
       " 'waipawa',\n",
       " 'sydney mines',\n",
       " 'senanga',\n",
       " 'diplo',\n",
       " 'port blair',\n",
       " 'axim',\n",
       " 'teguise',\n",
       " 'vila velha',\n",
       " 'independence',\n",
       " 'lago da pedra',\n",
       " 'slave lake',\n",
       " 'douglas',\n",
       " 'karpathos',\n",
       " 'kalmar',\n",
       " 'san patricio',\n",
       " 'jumla',\n",
       " 'verkhnyaya inta',\n",
       " 'naantali',\n",
       " 'mys shmidta',\n",
       " 'marcona',\n",
       " 'scottsburgh',\n",
       " 'coroata',\n",
       " 'sabang',\n",
       " 'vaitupu',\n",
       " 'hay river',\n",
       " 'kalundborg',\n",
       " 'ouallam',\n",
       " 'souillac',\n",
       " 'tipp city',\n",
       " 'akyab',\n",
       " 'poum',\n",
       " 'bandarbeyla',\n",
       " 'yakeshi',\n",
       " 'tura',\n",
       " 'rawannawi',\n",
       " 'shetpe',\n",
       " 'kozhevnikovo',\n",
       " 'puerto suarez',\n",
       " 'edd',\n",
       " 'ossora',\n",
       " 'qaqortoq',\n",
       " 'namibe',\n",
       " 'tautira',\n",
       " 'ginir',\n",
       " 'lakes entrance',\n",
       " 'dianopolis',\n",
       " 'puerto leguizamo',\n",
       " 'bambanglipuro',\n",
       " 'port hardy',\n",
       " 'himora',\n",
       " 'buchanan',\n",
       " 'loudeac',\n",
       " 'ranong',\n",
       " 'kalmunai',\n",
       " 'falealupo',\n",
       " 'lomovka',\n",
       " 'sambava',\n",
       " 'chapais',\n",
       " 'dongying',\n",
       " 'fort saint john',\n",
       " 'priiskovyy',\n",
       " 'gazanjyk',\n",
       " 'laguna',\n",
       " 'oum hadjer',\n",
       " 'las vegas',\n",
       " 'southampton',\n",
       " 'ajdabiya',\n",
       " 'nanga eboko',\n",
       " 'aklavik',\n",
       " 'eau claire',\n",
       " 'naze',\n",
       " 'te anau',\n",
       " 'gushikawa',\n",
       " 'townsville',\n",
       " 'olinda',\n",
       " 'marquette',\n",
       " 'arica',\n",
       " 'greytown',\n",
       " 'alice springs',\n",
       " 'prado',\n",
       " 'ola',\n",
       " 'levice',\n",
       " 'samalaeulu',\n",
       " 'tete',\n",
       " 'nuevitas',\n",
       " 'novo horizonte',\n",
       " 'fairbanks',\n",
       " 'paidha',\n",
       " 'nagato',\n",
       " 'khorixas',\n",
       " 'raton',\n",
       " 'bereda',\n",
       " 'vaida',\n",
       " 'baru',\n",
       " 'inhambane',\n",
       " 'pacific grove',\n",
       " 'salvador',\n",
       " 'urumqi',\n",
       " 'karaj',\n",
       " 'khonuu',\n",
       " 'bilma',\n",
       " 'quelimane',\n",
       " 'ankazoabo',\n",
       " 'buin',\n",
       " 'palmas',\n",
       " 'linchuan',\n",
       " 'premia de mar',\n",
       " 'aktau',\n",
       " 'tayu',\n",
       " 'dehloran',\n",
       " 'touros',\n",
       " 'honningsvag',\n",
       " 'praxedis guerrero',\n",
       " 'visby',\n",
       " 'dzaoudzi',\n",
       " 'independenta',\n",
       " 'lucea',\n",
       " 'huarmey',\n",
       " 'lamar',\n",
       " 'tucurui',\n",
       " 'samdari',\n",
       " 'nabire',\n",
       " 'vila franca do campo',\n",
       " 'mazara del vallo',\n",
       " 'harper',\n",
       " 'galle',\n",
       " 'neiafu',\n",
       " 'baghdad',\n",
       " 'pascagoula',\n",
       " 'chifeng',\n",
       " 'hobyo',\n",
       " 'cimislia',\n",
       " 'athabasca',\n",
       " 'port said',\n",
       " 'avera',\n",
       " 'mizdah',\n",
       " 'kuruman',\n",
       " 'ambon',\n",
       " 'humaita',\n",
       " 'moundsville',\n",
       " 'nuuk',\n",
       " 'ankola',\n",
       " 'gerash',\n",
       " 'vestmanna',\n",
       " 'shulan',\n",
       " 'nguiu',\n",
       " 'kisangani',\n",
       " 'firminopolis',\n",
       " 'meulaboh',\n",
       " 'nizwa',\n",
       " 'izumo',\n",
       " 'kangasala',\n",
       " 'camabatela',\n",
       " 'mayo',\n",
       " 'noumea',\n",
       " 'kardailovo',\n",
       " 'ito',\n",
       " 'vadso',\n",
       " 'pecos',\n",
       " 'kabompo',\n",
       " 'vikulovo',\n",
       " 'okha',\n",
       " 'manzhouli',\n",
       " 'dhidhdhoo',\n",
       " 'kuusankoski',\n",
       " 'dayong',\n",
       " 'daru',\n",
       " 'guanica']"
      ]
     },
     "execution_count": 2,
     "metadata": {},
     "output_type": "execute_result"
    }
   ],
   "source": [
    "# List for holding lat_lngs and cities\n",
    "lat_lngs = []\n",
    "cities = []\n",
    "\n",
    "# Create a set of random lat and lng combinations\n",
    "# np.random.seed(20200201)\n",
    "lats = np.random.uniform(lat_range[0], lat_range[1], size=1500)\n",
    "lngs = np.random.uniform(lng_range[0], lng_range[1], size=1500)\n",
    "lat_lngs = zip(lats, lngs)\n",
    "\n",
    "# Identify nearest city for each lat, lng combination\n",
    "for lat_lng in lat_lngs:\n",
    "    city = citipy.nearest_city(lat_lng[0], lat_lng[1]).city_name\n",
    "    \n",
    "    # If the city is unique, then add it to a our cities list\n",
    "    if city not in cities:\n",
    "        cities.append(city)\n",
    "\n",
    "# Print the city count to confirm sufficient count\n",
    "print(len(cities))\n",
    "cities"
   ]
  },
  {
   "cell_type": "markdown",
   "metadata": {},
   "source": [
    "### Perform API Calls\n",
    "* Perform a weather check on each city using a series of successive API calls.\n",
    "* Include a print log of each city as it'sbeing processed (with the city number and city name).\n"
   ]
  },
  {
   "cell_type": "code",
   "execution_count": 4,
   "metadata": {},
   "outputs": [
    {
     "name": "stdout",
     "output_type": "stream",
     "text": [
      "Beginning Data Retrieval\n",
      "-----------------------------\n",
      "http://api.openweathermap.org/data/2.5/weather?units=imperial&q=los llanos de aridane&appid=bf5be364cda6132d334ddae144c0c4ef\n",
      "Processing Record 0 | los llanos de aridane\n",
      "{\n",
      "    \"coord\": {\n",
      "        \"lon\": -17.9182,\n",
      "        \"lat\": 28.6585\n",
      "    },\n",
      "    \"weather\": [\n",
      "        {\n",
      "            \"id\": 804,\n",
      "            \"main\": \"Clouds\",\n",
      "            \"description\": \"overcast clouds\",\n",
      "            \"icon\": \"04n\"\n",
      "        }\n",
      "    ],\n",
      "    \"base\": \"stations\",\n",
      "    \"main\": {\n",
      "        \"temp\": 58.55,\n",
      "        \"feels_like\": 58.8,\n",
      "        \"temp_min\": 55.99,\n",
      "        \"temp_max\": 62.6,\n",
      "        \"pressure\": 1016,\n",
      "        \"humidity\": 88\n",
      "    },\n",
      "    \"visibility\": 10000,\n",
      "    \"wind\": {\n",
      "        \"speed\": 2.3,\n",
      "        \"deg\": 0\n",
      "    },\n",
      "    \"clouds\": {\n",
      "        \"all\": 90\n",
      "    },\n",
      "    \"dt\": 1612400455,\n",
      "    \"sys\": {\n",
      "        \"type\": 1,\n",
      "        \"id\": 2377,\n",
      "        \"country\": \"ES\",\n",
      "        \"sunrise\": 1612425482,\n",
      "        \"sunset\": 1612464790\n",
      "    },\n",
      "    \"timezone\": 0,\n",
      "    \"id\": 2514651,\n",
      "    \"name\": \"Los Llanos de Aridane\",\n",
      "    \"cod\": 200\n",
      "}\n",
      "http://api.openweathermap.org/data/2.5/weather?units=imperial&q=cap malheureux&appid=bf5be364cda6132d334ddae144c0c4ef\n",
      "Processing Record 1 | cap malheureux\n",
      "{\n",
      "    \"coord\": {\n",
      "        \"lon\": 57.6142,\n",
      "        \"lat\": -19.9842\n",
      "    },\n",
      "    \"weather\": [\n",
      "        {\n",
      "            \"id\": 800,\n",
      "            \"main\": \"Clear\",\n",
      "            \"description\": \"clear sky\",\n",
      "            \"icon\": \"01n\"\n",
      "        }\n",
      "    ],\n",
      "    \"base\": \"stations\",\n",
      "    \"main\": {\n",
      "        \"temp\": 75.99,\n",
      "        \"feels_like\": 82.71,\n",
      "        \"temp_min\": 75.99,\n",
      "        \"temp_max\": 75.99,\n",
      "        \"pressure\": 1014,\n",
      "        \"humidity\": 86\n",
      "    },\n",
      "    \"visibility\": 10000,\n",
      "    \"wind\": {\n",
      "        \"speed\": 3,\n",
      "        \"deg\": 150,\n",
      "        \"gust\": 5.99\n",
      "    },\n",
      "    \"clouds\": {\n",
      "        \"all\": 1\n",
      "    },\n",
      "    \"dt\": 1612400711,\n",
      "    \"sys\": {\n",
      "        \"type\": 3,\n",
      "        \"id\": 2002134,\n",
      "        \"country\": \"MU\",\n",
      "        \"sunrise\": 1612403728,\n",
      "        \"sunset\": 1612450286\n",
      "    },\n",
      "    \"timezone\": 14400,\n",
      "    \"id\": 934649,\n",
      "    \"name\": \"Cap Malheureux\",\n",
      "    \"cod\": 200\n",
      "}\n",
      "http://api.openweathermap.org/data/2.5/weather?units=imperial&q=tuktoyaktuk&appid=bf5be364cda6132d334ddae144c0c4ef\n",
      "Processing Record 2 | tuktoyaktuk\n",
      "{\n",
      "    \"coord\": {\n",
      "        \"lon\": -133.0374,\n",
      "        \"lat\": 69.4541\n",
      "    },\n",
      "    \"weather\": [\n",
      "        {\n",
      "            \"id\": 701,\n",
      "            \"main\": \"Mist\",\n",
      "            \"description\": \"mist\",\n",
      "            \"icon\": \"50n\"\n",
      "        }\n",
      "    ],\n",
      "    \"base\": \"stations\",\n",
      "    \"main\": {\n",
      "        \"temp\": -40,\n",
      "        \"feels_like\": -51.02,\n",
      "        \"temp_min\": -40,\n",
      "        \"temp_max\": -40,\n",
      "        \"pressure\": 1035,\n",
      "        \"humidity\": 67\n",
      "    },\n",
      "    \"visibility\": 9656,\n",
      "    \"wind\": {\n",
      "        \"speed\": 6.91,\n",
      "        \"deg\": 270\n",
      "    },\n",
      "    \"clouds\": {\n",
      "        \"all\": 20\n",
      "    },\n",
      "    \"dt\": 1612400520,\n",
      "    \"sys\": {\n",
      "        \"type\": 1,\n",
      "        \"id\": 942,\n",
      "        \"country\": \"CA\",\n",
      "        \"sunrise\": 1612376209,\n",
      "        \"sunset\": 1612396512\n",
      "    },\n",
      "    \"timezone\": -25200,\n",
      "    \"id\": 6170031,\n",
      "    \"name\": \"Tuktoyaktuk\",\n",
      "    \"cod\": 200\n",
      "}\n",
      "-----------------------------\n",
      "Data Retrieval Complete      \n",
      "-----------------------------\n"
     ]
    }
   ],
   "source": [
    "openweathermap_base_url = 'http://api.openweathermap.org/data/2.5/weather?units=imperial&q='\n",
    "name_lst, lon_lst, lat_lst, max_temp_lst,  humidity_lst, cloudiness_lst, wind_speed_lst, country_lst, date_lst = [], [], [], [], [], [], [], [], []\n",
    "\n",
    "print('Beginning Data Retrieval')\n",
    "print('-----------------------------')\n",
    "for index, city in enumerate(cities[0:3]):\n",
    "    city_url = f'{openweathermap_base_url}{city}&appid={weather_api_key}'\n",
    "    print(city_url)\n",
    "    city_response = requests.get(city_url).json()\n",
    "    print(f'Processing Record {index} | {city}')\n",
    "    print(json.dumps(city_response, indent = 4))\n",
    "    try:\n",
    "        lon_lst.append(city_response['coord']['lon'])\n",
    "        lat_lst.append(city_response['coord']['lat'])\n",
    "        max_temp_lst.append(city_response['main']['temp_max'])\n",
    "        humidity_lst.append(city_response['main']['humidity'])\n",
    "        cloudiness_lst.append(city_response['clouds']['all'])\n",
    "        wind_speed_lst.append(city_response['wind']['speed'])\n",
    "        country_lst.append(city_response['sys']['country'])\n",
    "        date_lst.append(city_response['dt'])\n",
    "        name_lst.append(city)\n",
    "    except:\n",
    "        print('City not found. Skipping...')\n",
    "    time.sleep(1)\n",
    "print(\"-----------------------------\")\n",
    "print(\"Data Retrieval Complete      \")\n",
    "print(\"-----------------------------\")"
   ]
  },
  {
   "cell_type": "code",
   "execution_count": null,
   "metadata": {
    "scrolled": true
   },
   "outputs": [],
   "source": []
  },
  {
   "cell_type": "markdown",
   "metadata": {},
   "source": [
    "### Convert Raw Data to DataFrame\n",
    "* Export the city data into a .csv.\n",
    "* Display the DataFrame"
   ]
  },
  {
   "cell_type": "code",
   "execution_count": 12,
   "metadata": {},
   "outputs": [
    {
     "data": {
      "text/html": [
       "<div>\n",
       "<style scoped>\n",
       "    .dataframe tbody tr th:only-of-type {\n",
       "        vertical-align: middle;\n",
       "    }\n",
       "\n",
       "    .dataframe tbody tr th {\n",
       "        vertical-align: top;\n",
       "    }\n",
       "\n",
       "    .dataframe thead th {\n",
       "        text-align: right;\n",
       "    }\n",
       "</style>\n",
       "<table border=\"1\" class=\"dataframe\">\n",
       "  <thead>\n",
       "    <tr style=\"text-align: right;\">\n",
       "      <th></th>\n",
       "      <th>City</th>\n",
       "      <th>Lat</th>\n",
       "      <th>Lng</th>\n",
       "      <th>Max Temp</th>\n",
       "      <th>Humidity</th>\n",
       "      <th>Cloudiness</th>\n",
       "      <th>Wind Speed</th>\n",
       "      <th>Country</th>\n",
       "      <th>Date</th>\n",
       "    </tr>\n",
       "  </thead>\n",
       "  <tbody>\n",
       "    <tr>\n",
       "      <th>0</th>\n",
       "      <td>port alfred</td>\n",
       "      <td>-33.5906</td>\n",
       "      <td>26.8910</td>\n",
       "      <td>66.99</td>\n",
       "      <td>89</td>\n",
       "      <td>0</td>\n",
       "      <td>1.01</td>\n",
       "      <td>ZA</td>\n",
       "      <td>1612296107</td>\n",
       "    </tr>\n",
       "    <tr>\n",
       "      <th>1</th>\n",
       "      <td>mansa</td>\n",
       "      <td>29.9833</td>\n",
       "      <td>75.3833</td>\n",
       "      <td>54.97</td>\n",
       "      <td>42</td>\n",
       "      <td>0</td>\n",
       "      <td>5.32</td>\n",
       "      <td>IN</td>\n",
       "      <td>1612296108</td>\n",
       "    </tr>\n",
       "    <tr>\n",
       "      <th>2</th>\n",
       "      <td>talnakh</td>\n",
       "      <td>69.4865</td>\n",
       "      <td>88.3972</td>\n",
       "      <td>-10.71</td>\n",
       "      <td>83</td>\n",
       "      <td>100</td>\n",
       "      <td>6.24</td>\n",
       "      <td>RU</td>\n",
       "      <td>1612296110</td>\n",
       "    </tr>\n",
       "    <tr>\n",
       "      <th>3</th>\n",
       "      <td>ushuaia</td>\n",
       "      <td>-54.8000</td>\n",
       "      <td>-68.3000</td>\n",
       "      <td>53.60</td>\n",
       "      <td>82</td>\n",
       "      <td>75</td>\n",
       "      <td>14.97</td>\n",
       "      <td>AR</td>\n",
       "      <td>1612296112</td>\n",
       "    </tr>\n",
       "    <tr>\n",
       "      <th>4</th>\n",
       "      <td>ukiah</td>\n",
       "      <td>39.1502</td>\n",
       "      <td>-123.2078</td>\n",
       "      <td>53.60</td>\n",
       "      <td>66</td>\n",
       "      <td>90</td>\n",
       "      <td>3.44</td>\n",
       "      <td>US</td>\n",
       "      <td>1612296002</td>\n",
       "    </tr>\n",
       "  </tbody>\n",
       "</table>\n",
       "</div>"
      ],
      "text/plain": [
       "          City      Lat       Lng  Max Temp  Humidity  Cloudiness  Wind Speed  \\\n",
       "0  port alfred -33.5906   26.8910     66.99        89           0        1.01   \n",
       "1        mansa  29.9833   75.3833     54.97        42           0        5.32   \n",
       "2      talnakh  69.4865   88.3972    -10.71        83         100        6.24   \n",
       "3      ushuaia -54.8000  -68.3000     53.60        82          75       14.97   \n",
       "4        ukiah  39.1502 -123.2078     53.60        66          90        3.44   \n",
       "\n",
       "  Country        Date  \n",
       "0      ZA  1612296107  \n",
       "1      IN  1612296108  \n",
       "2      RU  1612296110  \n",
       "3      AR  1612296112  \n",
       "4      US  1612296002  "
      ]
     },
     "execution_count": 12,
     "metadata": {},
     "output_type": "execute_result"
    }
   ],
   "source": [
    "city_weather_df = pd.DataFrame({'City': name_lst, 'Lat': lat_lst, 'Lng': lon_lst, 'Max Temp': max_temp_lst\n",
    "                               , 'Humidity': humidity_lst, 'Cloudiness': cloudiness_lst, 'Wind Speed': wind_speed_lst\n",
    "                               , 'Country': country_lst, 'Date': date_lst})\n",
    "city_weather_df.head()"
   ]
  },
  {
   "cell_type": "code",
   "execution_count": 13,
   "metadata": {},
   "outputs": [
    {
     "data": {
      "text/plain": [
       "City           object\n",
       "Lat           float64\n",
       "Lng           float64\n",
       "Max Temp      float64\n",
       "Humidity        int64\n",
       "Cloudiness      int64\n",
       "Wind Speed    float64\n",
       "Country        object\n",
       "Date            int64\n",
       "dtype: object"
      ]
     },
     "execution_count": 13,
     "metadata": {},
     "output_type": "execute_result"
    }
   ],
   "source": [
    "city_weather_df.dtypes"
   ]
  },
  {
   "cell_type": "code",
   "execution_count": 14,
   "metadata": {},
   "outputs": [
    {
     "data": {
      "text/html": [
       "<div>\n",
       "<style scoped>\n",
       "    .dataframe tbody tr th:only-of-type {\n",
       "        vertical-align: middle;\n",
       "    }\n",
       "\n",
       "    .dataframe tbody tr th {\n",
       "        vertical-align: top;\n",
       "    }\n",
       "\n",
       "    .dataframe thead th {\n",
       "        text-align: right;\n",
       "    }\n",
       "</style>\n",
       "<table border=\"1\" class=\"dataframe\">\n",
       "  <thead>\n",
       "    <tr style=\"text-align: right;\">\n",
       "      <th></th>\n",
       "      <th>Lat</th>\n",
       "      <th>Lng</th>\n",
       "      <th>Max Temp</th>\n",
       "      <th>Humidity</th>\n",
       "      <th>Cloudiness</th>\n",
       "      <th>Wind Speed</th>\n",
       "      <th>Date</th>\n",
       "    </tr>\n",
       "  </thead>\n",
       "  <tbody>\n",
       "    <tr>\n",
       "      <th>count</th>\n",
       "      <td>546.000000</td>\n",
       "      <td>546.000000</td>\n",
       "      <td>546.000000</td>\n",
       "      <td>546.000000</td>\n",
       "      <td>546.000000</td>\n",
       "      <td>546.000000</td>\n",
       "      <td>5.460000e+02</td>\n",
       "    </tr>\n",
       "    <tr>\n",
       "      <th>mean</th>\n",
       "      <td>22.534012</td>\n",
       "      <td>13.252451</td>\n",
       "      <td>49.005165</td>\n",
       "      <td>72.990842</td>\n",
       "      <td>52.600733</td>\n",
       "      <td>8.818626</td>\n",
       "      <td>1.612296e+09</td>\n",
       "    </tr>\n",
       "    <tr>\n",
       "      <th>std</th>\n",
       "      <td>32.465466</td>\n",
       "      <td>89.186423</td>\n",
       "      <td>32.483442</td>\n",
       "      <td>19.976452</td>\n",
       "      <td>40.538824</td>\n",
       "      <td>6.293592</td>\n",
       "      <td>2.102052e+02</td>\n",
       "    </tr>\n",
       "    <tr>\n",
       "      <th>min</th>\n",
       "      <td>-54.800000</td>\n",
       "      <td>-179.166700</td>\n",
       "      <td>-45.740000</td>\n",
       "      <td>14.000000</td>\n",
       "      <td>0.000000</td>\n",
       "      <td>0.110000</td>\n",
       "      <td>1.612296e+09</td>\n",
       "    </tr>\n",
       "    <tr>\n",
       "      <th>25%</th>\n",
       "      <td>-4.283550</td>\n",
       "      <td>-63.463400</td>\n",
       "      <td>28.400000</td>\n",
       "      <td>65.000000</td>\n",
       "      <td>6.000000</td>\n",
       "      <td>4.000000</td>\n",
       "      <td>1.612296e+09</td>\n",
       "    </tr>\n",
       "    <tr>\n",
       "      <th>50%</th>\n",
       "      <td>28.998050</td>\n",
       "      <td>15.645750</td>\n",
       "      <td>59.000000</td>\n",
       "      <td>78.000000</td>\n",
       "      <td>63.000000</td>\n",
       "      <td>7.515000</td>\n",
       "      <td>1.612296e+09</td>\n",
       "    </tr>\n",
       "    <tr>\n",
       "      <th>75%</th>\n",
       "      <td>49.808375</td>\n",
       "      <td>88.711825</td>\n",
       "      <td>75.720000</td>\n",
       "      <td>87.000000</td>\n",
       "      <td>92.000000</td>\n",
       "      <td>11.797500</td>\n",
       "      <td>1.612297e+09</td>\n",
       "    </tr>\n",
       "    <tr>\n",
       "      <th>max</th>\n",
       "      <td>78.218600</td>\n",
       "      <td>179.316700</td>\n",
       "      <td>94.140000</td>\n",
       "      <td>100.000000</td>\n",
       "      <td>100.000000</td>\n",
       "      <td>43.220000</td>\n",
       "      <td>1.612297e+09</td>\n",
       "    </tr>\n",
       "  </tbody>\n",
       "</table>\n",
       "</div>"
      ],
      "text/plain": [
       "              Lat         Lng    Max Temp    Humidity  Cloudiness  Wind Speed  \\\n",
       "count  546.000000  546.000000  546.000000  546.000000  546.000000  546.000000   \n",
       "mean    22.534012   13.252451   49.005165   72.990842   52.600733    8.818626   \n",
       "std     32.465466   89.186423   32.483442   19.976452   40.538824    6.293592   \n",
       "min    -54.800000 -179.166700  -45.740000   14.000000    0.000000    0.110000   \n",
       "25%     -4.283550  -63.463400   28.400000   65.000000    6.000000    4.000000   \n",
       "50%     28.998050   15.645750   59.000000   78.000000   63.000000    7.515000   \n",
       "75%     49.808375   88.711825   75.720000   87.000000   92.000000   11.797500   \n",
       "max     78.218600  179.316700   94.140000  100.000000  100.000000   43.220000   \n",
       "\n",
       "               Date  \n",
       "count  5.460000e+02  \n",
       "mean   1.612296e+09  \n",
       "std    2.102052e+02  \n",
       "min    1.612296e+09  \n",
       "25%    1.612296e+09  \n",
       "50%    1.612296e+09  \n",
       "75%    1.612297e+09  \n",
       "max    1.612297e+09  "
      ]
     },
     "execution_count": 14,
     "metadata": {},
     "output_type": "execute_result"
    }
   ],
   "source": [
    "city_weather_df.describe()"
   ]
  },
  {
   "cell_type": "code",
   "execution_count": null,
   "metadata": {},
   "outputs": [],
   "source": []
  },
  {
   "cell_type": "markdown",
   "metadata": {},
   "source": [
    "## Inspect the data and remove the cities where the humidity > 100%.\n",
    "----\n",
    "Skip this step if there are no cities that have humidity > 100%. "
   ]
  },
  {
   "cell_type": "code",
   "execution_count": 15,
   "metadata": {},
   "outputs": [
    {
     "data": {
      "text/html": [
       "<div>\n",
       "<style scoped>\n",
       "    .dataframe tbody tr th:only-of-type {\n",
       "        vertical-align: middle;\n",
       "    }\n",
       "\n",
       "    .dataframe tbody tr th {\n",
       "        vertical-align: top;\n",
       "    }\n",
       "\n",
       "    .dataframe thead th {\n",
       "        text-align: right;\n",
       "    }\n",
       "</style>\n",
       "<table border=\"1\" class=\"dataframe\">\n",
       "  <thead>\n",
       "    <tr style=\"text-align: right;\">\n",
       "      <th></th>\n",
       "      <th>City</th>\n",
       "      <th>Lat</th>\n",
       "      <th>Lng</th>\n",
       "      <th>Max Temp</th>\n",
       "      <th>Humidity</th>\n",
       "      <th>Cloudiness</th>\n",
       "      <th>Wind Speed</th>\n",
       "      <th>Country</th>\n",
       "      <th>Date</th>\n",
       "    </tr>\n",
       "  </thead>\n",
       "  <tbody>\n",
       "  </tbody>\n",
       "</table>\n",
       "</div>"
      ],
      "text/plain": [
       "Empty DataFrame\n",
       "Columns: [City, Lat, Lng, Max Temp, Humidity, Cloudiness, Wind Speed, Country, Date]\n",
       "Index: []"
      ]
     },
     "execution_count": 15,
     "metadata": {},
     "output_type": "execute_result"
    }
   ],
   "source": [
    "bad_humidify = city_weather_df.loc[city_weather_df['Humidity'] > 100, :]\n",
    "bad_humidify"
   ]
  },
  {
   "cell_type": "code",
   "execution_count": 16,
   "metadata": {},
   "outputs": [
    {
     "data": {
      "text/html": [
       "<div>\n",
       "<style scoped>\n",
       "    .dataframe tbody tr th:only-of-type {\n",
       "        vertical-align: middle;\n",
       "    }\n",
       "\n",
       "    .dataframe tbody tr th {\n",
       "        vertical-align: top;\n",
       "    }\n",
       "\n",
       "    .dataframe thead th {\n",
       "        text-align: right;\n",
       "    }\n",
       "</style>\n",
       "<table border=\"1\" class=\"dataframe\">\n",
       "  <thead>\n",
       "    <tr style=\"text-align: right;\">\n",
       "      <th></th>\n",
       "      <th>Lat</th>\n",
       "      <th>Lng</th>\n",
       "      <th>Max Temp</th>\n",
       "      <th>Humidity</th>\n",
       "      <th>Cloudiness</th>\n",
       "      <th>Wind Speed</th>\n",
       "      <th>Date</th>\n",
       "    </tr>\n",
       "  </thead>\n",
       "  <tbody>\n",
       "    <tr>\n",
       "      <th>count</th>\n",
       "      <td>546.000000</td>\n",
       "      <td>546.000000</td>\n",
       "      <td>546.000000</td>\n",
       "      <td>546.000000</td>\n",
       "      <td>546.000000</td>\n",
       "      <td>546.000000</td>\n",
       "      <td>5.460000e+02</td>\n",
       "    </tr>\n",
       "    <tr>\n",
       "      <th>mean</th>\n",
       "      <td>22.534012</td>\n",
       "      <td>13.252451</td>\n",
       "      <td>49.005165</td>\n",
       "      <td>72.990842</td>\n",
       "      <td>52.600733</td>\n",
       "      <td>8.818626</td>\n",
       "      <td>1.612296e+09</td>\n",
       "    </tr>\n",
       "    <tr>\n",
       "      <th>std</th>\n",
       "      <td>32.465466</td>\n",
       "      <td>89.186423</td>\n",
       "      <td>32.483442</td>\n",
       "      <td>19.976452</td>\n",
       "      <td>40.538824</td>\n",
       "      <td>6.293592</td>\n",
       "      <td>2.102052e+02</td>\n",
       "    </tr>\n",
       "    <tr>\n",
       "      <th>min</th>\n",
       "      <td>-54.800000</td>\n",
       "      <td>-179.166700</td>\n",
       "      <td>-45.740000</td>\n",
       "      <td>14.000000</td>\n",
       "      <td>0.000000</td>\n",
       "      <td>0.110000</td>\n",
       "      <td>1.612296e+09</td>\n",
       "    </tr>\n",
       "    <tr>\n",
       "      <th>25%</th>\n",
       "      <td>-4.283550</td>\n",
       "      <td>-63.463400</td>\n",
       "      <td>28.400000</td>\n",
       "      <td>65.000000</td>\n",
       "      <td>6.000000</td>\n",
       "      <td>4.000000</td>\n",
       "      <td>1.612296e+09</td>\n",
       "    </tr>\n",
       "    <tr>\n",
       "      <th>50%</th>\n",
       "      <td>28.998050</td>\n",
       "      <td>15.645750</td>\n",
       "      <td>59.000000</td>\n",
       "      <td>78.000000</td>\n",
       "      <td>63.000000</td>\n",
       "      <td>7.515000</td>\n",
       "      <td>1.612296e+09</td>\n",
       "    </tr>\n",
       "    <tr>\n",
       "      <th>75%</th>\n",
       "      <td>49.808375</td>\n",
       "      <td>88.711825</td>\n",
       "      <td>75.720000</td>\n",
       "      <td>87.000000</td>\n",
       "      <td>92.000000</td>\n",
       "      <td>11.797500</td>\n",
       "      <td>1.612297e+09</td>\n",
       "    </tr>\n",
       "    <tr>\n",
       "      <th>max</th>\n",
       "      <td>78.218600</td>\n",
       "      <td>179.316700</td>\n",
       "      <td>94.140000</td>\n",
       "      <td>100.000000</td>\n",
       "      <td>100.000000</td>\n",
       "      <td>43.220000</td>\n",
       "      <td>1.612297e+09</td>\n",
       "    </tr>\n",
       "  </tbody>\n",
       "</table>\n",
       "</div>"
      ],
      "text/plain": [
       "              Lat         Lng    Max Temp    Humidity  Cloudiness  Wind Speed  \\\n",
       "count  546.000000  546.000000  546.000000  546.000000  546.000000  546.000000   \n",
       "mean    22.534012   13.252451   49.005165   72.990842   52.600733    8.818626   \n",
       "std     32.465466   89.186423   32.483442   19.976452   40.538824    6.293592   \n",
       "min    -54.800000 -179.166700  -45.740000   14.000000    0.000000    0.110000   \n",
       "25%     -4.283550  -63.463400   28.400000   65.000000    6.000000    4.000000   \n",
       "50%     28.998050   15.645750   59.000000   78.000000   63.000000    7.515000   \n",
       "75%     49.808375   88.711825   75.720000   87.000000   92.000000   11.797500   \n",
       "max     78.218600  179.316700   94.140000  100.000000  100.000000   43.220000   \n",
       "\n",
       "               Date  \n",
       "count  5.460000e+02  \n",
       "mean   1.612296e+09  \n",
       "std    2.102052e+02  \n",
       "min    1.612296e+09  \n",
       "25%    1.612296e+09  \n",
       "50%    1.612296e+09  \n",
       "75%    1.612297e+09  \n",
       "max    1.612297e+09  "
      ]
     },
     "execution_count": 16,
     "metadata": {},
     "output_type": "execute_result"
    }
   ],
   "source": [
    "city_weather_df.describe()"
   ]
  },
  {
   "cell_type": "code",
   "execution_count": null,
   "metadata": {},
   "outputs": [],
   "source": []
  },
  {
   "cell_type": "code",
   "execution_count": 17,
   "metadata": {},
   "outputs": [],
   "source": [
    "#  Get the indices of cities that have humidity over 100%.\n"
   ]
  },
  {
   "cell_type": "code",
   "execution_count": 18,
   "metadata": {},
   "outputs": [],
   "source": [
    "# Make a new DataFrame equal to the city data to drop all humidity outliers by index.\n",
    "# Passing \"inplace=False\" will make a copy of the city_data DataFrame, which we call \"clean_city_data\".\n",
    "clean_city_data = city_weather_df\n",
    "city_weather_df.to_csv('Output/city_weather.csv')"
   ]
  },
  {
   "cell_type": "code",
   "execution_count": 19,
   "metadata": {},
   "outputs": [
    {
     "data": {
      "text/html": [
       "<div>\n",
       "<style scoped>\n",
       "    .dataframe tbody tr th:only-of-type {\n",
       "        vertical-align: middle;\n",
       "    }\n",
       "\n",
       "    .dataframe tbody tr th {\n",
       "        vertical-align: top;\n",
       "    }\n",
       "\n",
       "    .dataframe thead th {\n",
       "        text-align: right;\n",
       "    }\n",
       "</style>\n",
       "<table border=\"1\" class=\"dataframe\">\n",
       "  <thead>\n",
       "    <tr style=\"text-align: right;\">\n",
       "      <th></th>\n",
       "      <th>City</th>\n",
       "      <th>Lat</th>\n",
       "      <th>Lng</th>\n",
       "      <th>Max Temp</th>\n",
       "      <th>Humidity</th>\n",
       "      <th>Cloudiness</th>\n",
       "      <th>Wind Speed</th>\n",
       "      <th>Country</th>\n",
       "      <th>Date</th>\n",
       "    </tr>\n",
       "  </thead>\n",
       "  <tbody>\n",
       "    <tr>\n",
       "      <th>0</th>\n",
       "      <td>port alfred</td>\n",
       "      <td>-33.5906</td>\n",
       "      <td>26.8910</td>\n",
       "      <td>66.99</td>\n",
       "      <td>89</td>\n",
       "      <td>0</td>\n",
       "      <td>1.01</td>\n",
       "      <td>ZA</td>\n",
       "      <td>1612296107</td>\n",
       "    </tr>\n",
       "    <tr>\n",
       "      <th>1</th>\n",
       "      <td>mansa</td>\n",
       "      <td>29.9833</td>\n",
       "      <td>75.3833</td>\n",
       "      <td>54.97</td>\n",
       "      <td>42</td>\n",
       "      <td>0</td>\n",
       "      <td>5.32</td>\n",
       "      <td>IN</td>\n",
       "      <td>1612296108</td>\n",
       "    </tr>\n",
       "    <tr>\n",
       "      <th>2</th>\n",
       "      <td>talnakh</td>\n",
       "      <td>69.4865</td>\n",
       "      <td>88.3972</td>\n",
       "      <td>-10.71</td>\n",
       "      <td>83</td>\n",
       "      <td>100</td>\n",
       "      <td>6.24</td>\n",
       "      <td>RU</td>\n",
       "      <td>1612296110</td>\n",
       "    </tr>\n",
       "    <tr>\n",
       "      <th>3</th>\n",
       "      <td>ushuaia</td>\n",
       "      <td>-54.8000</td>\n",
       "      <td>-68.3000</td>\n",
       "      <td>53.60</td>\n",
       "      <td>82</td>\n",
       "      <td>75</td>\n",
       "      <td>14.97</td>\n",
       "      <td>AR</td>\n",
       "      <td>1612296112</td>\n",
       "    </tr>\n",
       "    <tr>\n",
       "      <th>4</th>\n",
       "      <td>ukiah</td>\n",
       "      <td>39.1502</td>\n",
       "      <td>-123.2078</td>\n",
       "      <td>53.60</td>\n",
       "      <td>66</td>\n",
       "      <td>90</td>\n",
       "      <td>3.44</td>\n",
       "      <td>US</td>\n",
       "      <td>1612296002</td>\n",
       "    </tr>\n",
       "    <tr>\n",
       "      <th>...</th>\n",
       "      <td>...</td>\n",
       "      <td>...</td>\n",
       "      <td>...</td>\n",
       "      <td>...</td>\n",
       "      <td>...</td>\n",
       "      <td>...</td>\n",
       "      <td>...</td>\n",
       "      <td>...</td>\n",
       "      <td>...</td>\n",
       "    </tr>\n",
       "    <tr>\n",
       "      <th>541</th>\n",
       "      <td>sanlucar de barrameda</td>\n",
       "      <td>36.7781</td>\n",
       "      <td>-6.3515</td>\n",
       "      <td>59.00</td>\n",
       "      <td>94</td>\n",
       "      <td>20</td>\n",
       "      <td>6.91</td>\n",
       "      <td>ES</td>\n",
       "      <td>1612296768</td>\n",
       "    </tr>\n",
       "    <tr>\n",
       "      <th>542</th>\n",
       "      <td>manggar</td>\n",
       "      <td>-2.8833</td>\n",
       "      <td>108.2667</td>\n",
       "      <td>79.07</td>\n",
       "      <td>84</td>\n",
       "      <td>93</td>\n",
       "      <td>14.27</td>\n",
       "      <td>ID</td>\n",
       "      <td>1612296769</td>\n",
       "    </tr>\n",
       "    <tr>\n",
       "      <th>543</th>\n",
       "      <td>nouadhibou</td>\n",
       "      <td>20.9310</td>\n",
       "      <td>-17.0347</td>\n",
       "      <td>66.20</td>\n",
       "      <td>82</td>\n",
       "      <td>0</td>\n",
       "      <td>14.97</td>\n",
       "      <td>MR</td>\n",
       "      <td>1612296770</td>\n",
       "    </tr>\n",
       "    <tr>\n",
       "      <th>544</th>\n",
       "      <td>te anau</td>\n",
       "      <td>-45.4167</td>\n",
       "      <td>167.7167</td>\n",
       "      <td>55.78</td>\n",
       "      <td>87</td>\n",
       "      <td>100</td>\n",
       "      <td>2.06</td>\n",
       "      <td>NZ</td>\n",
       "      <td>1612296772</td>\n",
       "    </tr>\n",
       "    <tr>\n",
       "      <th>545</th>\n",
       "      <td>natal</td>\n",
       "      <td>-5.7950</td>\n",
       "      <td>-35.2094</td>\n",
       "      <td>84.20</td>\n",
       "      <td>65</td>\n",
       "      <td>75</td>\n",
       "      <td>18.41</td>\n",
       "      <td>BR</td>\n",
       "      <td>1612296671</td>\n",
       "    </tr>\n",
       "  </tbody>\n",
       "</table>\n",
       "<p>546 rows × 9 columns</p>\n",
       "</div>"
      ],
      "text/plain": [
       "                      City      Lat       Lng  Max Temp  Humidity  Cloudiness  \\\n",
       "0              port alfred -33.5906   26.8910     66.99        89           0   \n",
       "1                    mansa  29.9833   75.3833     54.97        42           0   \n",
       "2                  talnakh  69.4865   88.3972    -10.71        83         100   \n",
       "3                  ushuaia -54.8000  -68.3000     53.60        82          75   \n",
       "4                    ukiah  39.1502 -123.2078     53.60        66          90   \n",
       "..                     ...      ...       ...       ...       ...         ...   \n",
       "541  sanlucar de barrameda  36.7781   -6.3515     59.00        94          20   \n",
       "542                manggar  -2.8833  108.2667     79.07        84          93   \n",
       "543             nouadhibou  20.9310  -17.0347     66.20        82           0   \n",
       "544                te anau -45.4167  167.7167     55.78        87         100   \n",
       "545                  natal  -5.7950  -35.2094     84.20        65          75   \n",
       "\n",
       "     Wind Speed Country        Date  \n",
       "0          1.01      ZA  1612296107  \n",
       "1          5.32      IN  1612296108  \n",
       "2          6.24      RU  1612296110  \n",
       "3         14.97      AR  1612296112  \n",
       "4          3.44      US  1612296002  \n",
       "..          ...     ...         ...  \n",
       "541        6.91      ES  1612296768  \n",
       "542       14.27      ID  1612296769  \n",
       "543       14.97      MR  1612296770  \n",
       "544        2.06      NZ  1612296772  \n",
       "545       18.41      BR  1612296671  \n",
       "\n",
       "[546 rows x 9 columns]"
      ]
     },
     "execution_count": 19,
     "metadata": {},
     "output_type": "execute_result"
    }
   ],
   "source": [
    "clean_city_data"
   ]
  },
  {
   "cell_type": "markdown",
   "metadata": {},
   "source": [
    "## Plotting the Data\n",
    "* Use proper labeling of the plots using plot titles (including date of analysis) and axes labels.\n",
    "* Save the plotted figures as .pngs."
   ]
  },
  {
   "cell_type": "markdown",
   "metadata": {},
   "source": [
    "## Latitude vs. Temperature Plot"
   ]
  },
  {
   "cell_type": "code",
   "execution_count": 20,
   "metadata": {},
   "outputs": [
    {
     "data": {
      "image/png": "[encoded data removed]",
      "text/plain": [
       "<Figure size 432x288 with 1 Axes>"
      ]
     },
     "metadata": {
      "needs_background": "light"
     },
     "output_type": "display_data"
    },
    {
     "data": {
      "text/plain": [
       "<Figure size 432x288 with 0 Axes>"
      ]
     },
     "metadata": {},
     "output_type": "display_data"
    }
   ],
   "source": [
    "plt.scatter(clean_city_data['Lat'], clean_city_data['Max Temp']\n",
    "           , edgecolor = 'black', alpha = 0.8)\n",
    "\n",
    "plt.title(f'City Latitude vs. Max Temperature ({time.strftime(\"%x\")})')\n",
    "plt.xlabel('Latitude')\n",
    "plt.ylabel('Max Temperature (F)')\n",
    "plt.show()\n",
    "plt.savefig('Output/City_Latitude_vs_Max_Temperature.png')"
   ]
  },
  {
   "cell_type": "markdown",
   "metadata": {},
   "source": [
    "### The code above analyzed the relationship between city latitude and max temperature. It shows that the max temperature near latitude is relatively higher. The higher the absolute value of latitude is,  the lower the max temperature gets."
   ]
  },
  {
   "cell_type": "code",
   "execution_count": null,
   "metadata": {
    "scrolled": true
   },
   "outputs": [],
   "source": []
  },
  {
   "cell_type": "markdown",
   "metadata": {},
   "source": [
    "## Latitude vs. Humidity Plot"
   ]
  },
  {
   "cell_type": "code",
   "execution_count": 21,
   "metadata": {},
   "outputs": [
    {
     "data": {
      "image/png": "[encoded data removed]",
      "text/plain": [
       "<Figure size 432x288 with 1 Axes>"
      ]
     },
     "metadata": {
      "needs_background": "light"
     },
     "output_type": "display_data"
    },
    {
     "data": {
      "text/plain": [
       "<Figure size 432x288 with 0 Axes>"
      ]
     },
     "metadata": {},
     "output_type": "display_data"
    }
   ],
   "source": [
    "plt.scatter(clean_city_data['Lat'], clean_city_data['Humidity']\n",
    "           , edgecolor = 'black', alpha = 0.8)\n",
    "\n",
    "plt.title(f'City Latitude vs. Humidity ({time.strftime(\"%x\")})')\n",
    "plt.xlabel('Latitude')\n",
    "plt.ylabel('Humidity (%)')\n",
    "plt.show()\n",
    "plt.savefig('Output/City_Latitude_vs_Humidity.png')"
   ]
  },
  {
   "cell_type": "markdown",
   "metadata": {},
   "source": [
    "### The code above analyzed the relationship between city latitude and humidity. "
   ]
  },
  {
   "cell_type": "code",
   "execution_count": null,
   "metadata": {},
   "outputs": [],
   "source": []
  },
  {
   "cell_type": "markdown",
   "metadata": {},
   "source": [
    "## Latitude vs. Cloudiness Plot"
   ]
  },
  {
   "cell_type": "code",
   "execution_count": 22,
   "metadata": {},
   "outputs": [
    {
     "data": {
      "image/png": "[encoded data removed]",
      "text/plain": [
       "<Figure size 432x288 with 1 Axes>"
      ]
     },
     "metadata": {
      "needs_background": "light"
     },
     "output_type": "display_data"
    },
    {
     "data": {
      "text/plain": [
       "<Figure size 432x288 with 0 Axes>"
      ]
     },
     "metadata": {},
     "output_type": "display_data"
    }
   ],
   "source": [
    "plt.scatter(clean_city_data['Lat'], clean_city_data['Cloudiness']\n",
    "           , edgecolor = 'black', alpha = 0.8)\n",
    "\n",
    "plt.title(f'City Latitude vs. Cloudiness ({time.strftime(\"%x\")})')\n",
    "plt.xlabel('Latitude')\n",
    "plt.ylabel('Cloudiness (%)')\n",
    "plt.show()\n",
    "plt.savefig('Output/City_Latitude_vs_Cloudiness.png')"
   ]
  },
  {
   "cell_type": "code",
   "execution_count": null,
   "metadata": {},
   "outputs": [],
   "source": []
  },
  {
   "cell_type": "markdown",
   "metadata": {},
   "source": [
    "## Latitude vs. Wind Speed Plot"
   ]
  },
  {
   "cell_type": "code",
   "execution_count": 23,
   "metadata": {},
   "outputs": [
    {
     "data": {
      "image/png": "[encoded data removed]",
      "text/plain": [
       "<Figure size 432x288 with 1 Axes>"
      ]
     },
     "metadata": {
      "needs_background": "light"
     },
     "output_type": "display_data"
    },
    {
     "data": {
      "text/plain": [
       "<Figure size 432x288 with 0 Axes>"
      ]
     },
     "metadata": {},
     "output_type": "display_data"
    }
   ],
   "source": [
    "plt.scatter(clean_city_data['Lat'], clean_city_data['Wind Speed']\n",
    "           , edgecolor = 'black', alpha = 0.8)\n",
    "\n",
    "plt.title(f'City Latitude vs. Wind Speed ({time.strftime(\"%x\")})')\n",
    "plt.xlabel('Latitude')\n",
    "plt.ylabel('Wind Speed (mph)')\n",
    "plt.show()\n",
    "plt.savefig('Output/City_Latitude_vs_Wind_Speed.png')"
   ]
  },
  {
   "cell_type": "markdown",
   "metadata": {},
   "source": [
    "### The code above analyzed the relationship between city latitude and cloudiness. It shows that there are more cities with lower wind speed regardless of the latitude but no obvious correlation between city latitude and cloudiness. "
   ]
  },
  {
   "cell_type": "code",
   "execution_count": null,
   "metadata": {},
   "outputs": [],
   "source": []
  },
  {
   "cell_type": "markdown",
   "metadata": {},
   "source": [
    "## Linear Regression"
   ]
  },
  {
   "cell_type": "code",
   "execution_count": null,
   "metadata": {},
   "outputs": [],
   "source": []
  },
  {
   "cell_type": "markdown",
   "metadata": {},
   "source": [
    "####  Northern Hemisphere - Max Temp vs. Latitude Linear Regression"
   ]
  },
  {
   "cell_type": "code",
   "execution_count": 24,
   "metadata": {},
   "outputs": [],
   "source": [
    "northern_df = clean_city_data.loc[clean_city_data['Lat'] > 0, :]\n",
    "southern_df = clean_city_data.loc[clean_city_data['Lat'] < 0, :]"
   ]
  },
  {
   "cell_type": "code",
   "execution_count": 25,
   "metadata": {},
   "outputs": [
    {
     "name": "stdout",
     "output_type": "stream",
     "text": [
      "The r-squared value is 0.712252175567233\n"
     ]
    },
    {
     "data": {
      "image/png": "[encoded data removed]",
      "text/plain": [
       "<Figure size 432x288 with 1 Axes>"
      ]
     },
     "metadata": {
      "needs_background": "light"
     },
     "output_type": "display_data"
    },
    {
     "data": {
      "text/plain": [
       "<Figure size 432x288 with 0 Axes>"
      ]
     },
     "metadata": {},
     "output_type": "display_data"
    }
   ],
   "source": [
    "plt.scatter(northern_df['Lat'], northern_df['Max Temp'])\n",
    "\n",
    "plt.title(f'Northern City Latitude vs. Max Temperature ({time.strftime(\"%x\")})')\n",
    "plt.xlabel('Latitude')\n",
    "plt.ylabel('Max Temperature (F)')\n",
    "\n",
    "(slope, intercept, rvalue, pvalue, stderr) = linregress(northern_df['Lat'], northern_df['Max Temp'])\n",
    "formular = f'y = {round(slope, 2)}*x + {round(intercept, 2)}'\n",
    "y_pred = slope * northern_df['Lat'] + intercept\n",
    "plt.plot(northern_df['Lat'], y_pred, color = 'red')\n",
    "plt.annotate(formular, (0, 260), color = 'red', fontsize = 16)\n",
    "\n",
    "print(f'The r-squared value is {rvalue**2}')\n",
    "\n",
    "plt.show()\n",
    "plt.savefig('Output/Northern_City_Latitude_vs_Max_Temperature.png')"
   ]
  },
  {
   "cell_type": "code",
   "execution_count": null,
   "metadata": {},
   "outputs": [],
   "source": []
  },
  {
   "cell_type": "markdown",
   "metadata": {},
   "source": [
    "####  Southern Hemisphere - Max Temp vs. Latitude Linear Regression"
   ]
  },
  {
   "cell_type": "code",
   "execution_count": 26,
   "metadata": {},
   "outputs": [
    {
     "name": "stdout",
     "output_type": "stream",
     "text": [
      "The r-squared value is 0.3210063215476037\n"
     ]
    },
    {
     "data": {
      "image/png": "[encoded data removed]",
      "text/plain": [
       "<Figure size 432x288 with 1 Axes>"
      ]
     },
     "metadata": {
      "needs_background": "light"
     },
     "output_type": "display_data"
    },
    {
     "data": {
      "text/plain": [
       "<Figure size 432x288 with 0 Axes>"
      ]
     },
     "metadata": {},
     "output_type": "display_data"
    }
   ],
   "source": [
    "plt.scatter(southern_df['Lat'], southern_df['Max Temp'])\n",
    "\n",
    "plt.title(f'Southern City Latitude vs. Max Temperature ({time.strftime(\"%x\")})')\n",
    "plt.xlabel('Latitude')\n",
    "plt.ylabel('Max Temperature (F)')\n",
    "\n",
    "(slope, intercept, rvalue, pvalue, stderr) = linregress(southern_df['Lat'], southern_df['Max Temp'])\n",
    "formular = f'y = {round(slope, 2)}*x + {round(intercept, 2)}'\n",
    "y_pred = slope * southern_df['Lat'] + intercept\n",
    "plt.plot(southern_df['Lat'], y_pred, color = 'red')\n",
    "plt.annotate(formular, (-30, 290), color = 'red', fontsize = 16)\n",
    "\n",
    "print(f'The r-squared value is {rvalue**2}')\n",
    "\n",
    "plt.show()\n",
    "plt.savefig('Output/Southern_City_Latitude_vs_Max_Temperature.png')"
   ]
  },
  {
   "cell_type": "code",
   "execution_count": null,
   "metadata": {},
   "outputs": [],
   "source": []
  },
  {
   "cell_type": "markdown",
   "metadata": {},
   "source": [
    "####  Northern Hemisphere - Humidity (%) vs. Latitude Linear Regression"
   ]
  },
  {
   "cell_type": "code",
   "execution_count": 27,
   "metadata": {},
   "outputs": [
    {
     "name": "stdout",
     "output_type": "stream",
     "text": [
      "The r-squared value is 0.20699676375320142\n"
     ]
    },
    {
     "data": {
      "image/png": "[encoded data removed]",
      "text/plain": [
       "<Figure size 432x288 with 1 Axes>"
      ]
     },
     "metadata": {
      "needs_background": "light"
     },
     "output_type": "display_data"
    },
    {
     "data": {
      "text/plain": [
       "<Figure size 432x288 with 0 Axes>"
      ]
     },
     "metadata": {},
     "output_type": "display_data"
    }
   ],
   "source": [
    "plt.scatter(northern_df['Lat'], northern_df['Humidity'])\n",
    "\n",
    "plt.title(f'Northern City Latitude vs. Humidity ({time.strftime(\"%x\")})')\n",
    "plt.xlabel('Latitude')\n",
    "plt.ylabel('Humidity (%)')\n",
    "\n",
    "(slope, intercept, rvalue, pvalue, stderr) = linregress(northern_df['Lat'], northern_df['Humidity'])\n",
    "formular = f'y = {round(slope, 2)}*x + {round(intercept, 2)}'\n",
    "y_pred = slope * northern_df['Lat'] + intercept\n",
    "plt.plot(northern_df['Lat'], y_pred, color = 'red')\n",
    "plt.annotate(formular, (30, 40), color = 'red', fontsize = 16)\n",
    "\n",
    "print(f'The r-squared value is {rvalue**2}')\n",
    "\n",
    "plt.show()\n",
    "plt.savefig('Output/Northern_City_Latitude_vs_Humidity.png')"
   ]
  },
  {
   "cell_type": "code",
   "execution_count": null,
   "metadata": {},
   "outputs": [],
   "source": []
  },
  {
   "cell_type": "markdown",
   "metadata": {},
   "source": [
    "####  Southern Hemisphere - Humidity (%) vs. Latitude Linear Regression"
   ]
  },
  {
   "cell_type": "code",
   "execution_count": 28,
   "metadata": {},
   "outputs": [
    {
     "name": "stdout",
     "output_type": "stream",
     "text": [
      "The r-squared value is 0.045582479789413585\n"
     ]
    },
    {
     "data": {
      "image/png": "[encoded data removed]",
      "text/plain": [
       "<Figure size 432x288 with 1 Axes>"
      ]
     },
     "metadata": {
      "needs_background": "light"
     },
     "output_type": "display_data"
    },
    {
     "data": {
      "text/plain": [
       "<Figure size 432x288 with 0 Axes>"
      ]
     },
     "metadata": {},
     "output_type": "display_data"
    }
   ],
   "source": [
    "plt.scatter(southern_df['Lat'], southern_df['Humidity'])\n",
    "\n",
    "plt.title(f'Southern City Latitude vs. Humidity ({time.strftime(\"%x\")})')\n",
    "plt.xlabel('Latitude')\n",
    "plt.ylabel('Humidity (%)')\n",
    "\n",
    "(slope, intercept, rvalue, pvalue, stderr) = linregress(southern_df['Lat'], southern_df['Humidity'])\n",
    "formular = f'y = {round(slope, 2)}*x + {round(intercept, 2)}'\n",
    "y_pred = slope * southern_df['Lat'] + intercept\n",
    "plt.plot(southern_df['Lat'], y_pred, color = 'red')\n",
    "plt.annotate(formular, (30, 40), color = 'red', fontsize = 16)\n",
    "\n",
    "print(f'The r-squared value is {rvalue**2}')\n",
    "\n",
    "plt.show()\n",
    "plt.savefig('Output/Southern_City_Latitude_vs_Humidity.png')"
   ]
  },
  {
   "cell_type": "code",
   "execution_count": null,
   "metadata": {},
   "outputs": [],
   "source": []
  },
  {
   "cell_type": "markdown",
   "metadata": {},
   "source": [
    "####  Northern Hemisphere - Cloudiness (%) vs. Latitude Linear Regression"
   ]
  },
  {
   "cell_type": "code",
   "execution_count": 29,
   "metadata": {},
   "outputs": [
    {
     "name": "stdout",
     "output_type": "stream",
     "text": [
      "The r-squared value is 0.1542275120345546\n"
     ]
    },
    {
     "data": {
      "image/png": "[encoded data removed]",
      "text/plain": [
       "<Figure size 432x288 with 1 Axes>"
      ]
     },
     "metadata": {
      "needs_background": "light"
     },
     "output_type": "display_data"
    },
    {
     "data": {
      "text/plain": [
       "<Figure size 432x288 with 0 Axes>"
      ]
     },
     "metadata": {},
     "output_type": "display_data"
    }
   ],
   "source": [
    "plt.scatter(northern_df['Lat'], northern_df['Cloudiness'])\n",
    "\n",
    "plt.title(f'Northern City Latitude vs. Cloudiness ({time.strftime(\"%x\")})')\n",
    "plt.xlabel('Latitude')\n",
    "plt.ylabel('Cloudiness (%)')\n",
    "\n",
    "(slope, intercept, rvalue, pvalue, stderr) = linregress(northern_df['Lat'], northern_df['Cloudiness'])\n",
    "formular = f'y = {round(slope, 2)}*x + {round(intercept, 2)}'\n",
    "y_pred = slope * northern_df['Lat'] + intercept\n",
    "plt.plot(northern_df['Lat'], y_pred, color = 'red')\n",
    "plt.annotate(formular, (30, 40), color = 'red', fontsize = 16)\n",
    "\n",
    "print(f'The r-squared value is {rvalue**2}')\n",
    "\n",
    "plt.show()\n",
    "plt.savefig('Output/Northern_City_Latitude_vs_Cloudiness.png')"
   ]
  },
  {
   "cell_type": "code",
   "execution_count": null,
   "metadata": {},
   "outputs": [],
   "source": []
  },
  {
   "cell_type": "markdown",
   "metadata": {},
   "source": [
    "####  Southern Hemisphere - Cloudiness (%) vs. Latitude Linear Regression"
   ]
  },
  {
   "cell_type": "code",
   "execution_count": 30,
   "metadata": {},
   "outputs": [
    {
     "name": "stdout",
     "output_type": "stream",
     "text": [
      "The r-squared value is 0.008784959806516831\n"
     ]
    },
    {
     "data": {
      "image/png": "[encoded data removed]",
      "text/plain": [
       "<Figure size 432x288 with 1 Axes>"
      ]
     },
     "metadata": {
      "needs_background": "light"
     },
     "output_type": "display_data"
    },
    {
     "data": {
      "text/plain": [
       "<Figure size 432x288 with 0 Axes>"
      ]
     },
     "metadata": {},
     "output_type": "display_data"
    }
   ],
   "source": [
    "plt.scatter(southern_df['Lat'], southern_df['Cloudiness'])\n",
    "\n",
    "plt.title(f'Southern City Latitude vs. Cloudiness ({time.strftime(\"%x\")})')\n",
    "plt.xlabel('Latitude')\n",
    "plt.ylabel('Cloudiness (%)')\n",
    "\n",
    "(slope, intercept, rvalue, pvalue, stderr) = linregress(southern_df['Lat'], southern_df['Cloudiness'])\n",
    "formular = f'y = {round(slope, 2)}*x + {round(intercept, 2)}'\n",
    "y_pred = slope * southern_df['Lat'] + intercept\n",
    "plt.plot(southern_df['Lat'], y_pred, color = 'red')\n",
    "plt.annotate(formular, (-40, 20), color = 'red', fontsize = 16)\n",
    "\n",
    "print(f'The r-squared value is {rvalue**2}')\n",
    "\n",
    "plt.show()\n",
    "plt.savefig('Output/Southern_City_Latitude_vs_Cloudiness.png')"
   ]
  },
  {
   "cell_type": "code",
   "execution_count": null,
   "metadata": {},
   "outputs": [],
   "source": []
  },
  {
   "cell_type": "markdown",
   "metadata": {},
   "source": [
    "####  Northern Hemisphere - Wind Speed (mph) vs. Latitude Linear Regression"
   ]
  },
  {
   "cell_type": "code",
   "execution_count": 31,
   "metadata": {},
   "outputs": [
    {
     "name": "stdout",
     "output_type": "stream",
     "text": [
      "The r-squared value is 0.0021858994120950584\n"
     ]
    },
    {
     "data": {
      "image/png": "[encoded data removed]",
      "text/plain": [
       "<Figure size 432x288 with 1 Axes>"
      ]
     },
     "metadata": {
      "needs_background": "light"
     },
     "output_type": "display_data"
    },
    {
     "data": {
      "text/plain": [
       "<Figure size 432x288 with 0 Axes>"
      ]
     },
     "metadata": {},
     "output_type": "display_data"
    }
   ],
   "source": [
    "plt.scatter(northern_df['Lat'], northern_df['Wind Speed'])\n",
    "\n",
    "plt.title(f'Northern City Latitude vs. Wind Speed ({time.strftime(\"%x\")})')\n",
    "plt.xlabel('Latitude')\n",
    "plt.ylabel('Wind Speed (mph)')\n",
    "\n",
    "(slope, intercept, rvalue, pvalue, stderr) = linregress(northern_df['Lat'], northern_df['Wind Speed'])\n",
    "formular = f'y = {round(slope, 2)}*x + {round(intercept, 2)}'\n",
    "y_pred = slope * northern_df['Lat'] + intercept\n",
    "plt.plot(northern_df['Lat'], y_pred, color = 'red')\n",
    "plt.annotate(formular, (20, 8), color = 'red', fontsize = 16)\n",
    "\n",
    "print(f'The r-squared value is {rvalue**2}')\n",
    "\n",
    "plt.show()\n",
    "plt.savefig('Output/Northern_City_Latitude_vs_Wind_Speed.png')"
   ]
  },
  {
   "cell_type": "code",
   "execution_count": null,
   "metadata": {},
   "outputs": [],
   "source": []
  },
  {
   "cell_type": "markdown",
   "metadata": {},
   "source": [
    "####  Southern Hemisphere - Wind Speed (mph) vs. Latitude Linear Regression"
   ]
  },
  {
   "cell_type": "code",
   "execution_count": 32,
   "metadata": {},
   "outputs": [
    {
     "name": "stdout",
     "output_type": "stream",
     "text": [
      "The r-squared value is 0.0018577436246170877\n"
     ]
    },
    {
     "data": {
      "image/png": "[encoded data removed]",
      "text/plain": [
       "<Figure size 432x288 with 1 Axes>"
      ]
     },
     "metadata": {
      "needs_background": "light"
     },
     "output_type": "display_data"
    },
    {
     "data": {
      "text/plain": [
       "<Figure size 432x288 with 0 Axes>"
      ]
     },
     "metadata": {},
     "output_type": "display_data"
    }
   ],
   "source": [
    "plt.scatter(southern_df['Lat'], southern_df['Wind Speed'])\n",
    "\n",
    "plt.title(f'Southern City Latitude vs. Wind Speed ({time.strftime(\"%x\")})')\n",
    "plt.xlabel('Latitude')\n",
    "plt.ylabel('Wind Speed (mph)')\n",
    "\n",
    "(slope, intercept, rvalue, pvalue, stderr) = linregress(southern_df['Lat'], southern_df['Wind Speed'])\n",
    "formular = f'y = {round(slope, 2)}*x + {round(intercept, 2)}'\n",
    "y_pred = slope * southern_df['Lat'] + intercept\n",
    "plt.plot(southern_df['Lat'], y_pred, color = 'red')\n",
    "plt.annotate(formular, (-50, 10), color = 'red', fontsize = 16)\n",
    "\n",
    "print(f'The r-squared value is {rvalue**2}')\n",
    "\n",
    "plt.show()\n",
    "plt.savefig('Output/Southern_City_Latitude_vs_Wind_Speed.png')"
   ]
  },
  {
   "cell_type": "code",
   "execution_count": null,
   "metadata": {},
   "outputs": [],
   "source": []
  },
  {
   "cell_type": "code",
   "execution_count": null,
   "metadata": {},
   "outputs": [],
   "source": []
  }
 ],
 "metadata": {
  "anaconda-cloud": {},
  "kernel_info": {
   "name": "python3"
  },
  "kernelspec": {
   "display_name": "Python 3",
   "language": "python",
   "name": "python3"
  },
  "language_info": {
   "codemirror_mode": {
    "name": "ipython",
    "version": 3
   },
   "file_extension": ".py",
   "mimetype": "text/x-python",
   "name": "python",
   "nbconvert_exporter": "python",
   "pygments_lexer": "ipython3",
   "version": "3.8.5"
  },
  "latex_envs": {
   "LaTeX_envs_menu_present": true,
   "autoclose": false,
   "autocomplete": true,
   "bibliofile": "biblio.bib",
   "cite_by": "apalike",
   "current_citInitial": 1,
   "eqLabelWithNumbers": true,
   "eqNumInitial": 1,
   "hotkeys": {
    "equation": "Ctrl-E",
    "itemize": "Ctrl-I"
   },
   "labels_anchors": false,
   "latex_user_defs": false,
   "report_style_numbering": false,
   "user_envs_cfg": false
  },
  "nteract": {
   "version": "0.12.3"
  }
 },
 "nbformat": 4,
 "nbformat_minor": 2
}
